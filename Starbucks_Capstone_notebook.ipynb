{
 "cells": [
  {
   "cell_type": "markdown",
   "metadata": {},
   "source": [
    "# Starbucks Capstone Challenge\n",
    "\n",
    "### Introduction\n",
    "\n",
    "This data set contains simulated data that mimics customer behavior on the Starbucks rewards mobile app. Once every few days, Starbucks sends out an offer to users of the mobile app. An offer can be merely an advertisement for a drink or an actual offer such as a discount or BOGO (buy one get one free). Some users might not receive any offer during certain weeks. \n",
    "\n",
    "Not all users receive the same offer, and that is the challenge to solve with this data set.\n",
    "\n",
    "Your task is to combine transaction, demographic and offer data to determine which demographic groups respond best to which offer type. This data set is a simplified version of the real Starbucks app because the underlying simulator only has one product whereas Starbucks actually sells dozens of products.\n",
    "\n",
    "Every offer has a validity period before the offer expires. As an example, a BOGO offer might be valid for only 5 days. You'll see in the data set that informational offers have a validity period even though these ads are merely providing information about a product; for example, if an informational offer has 7 days of validity, you can assume the customer is feeling the influence of the offer for 7 days after receiving the advertisement.\n",
    "\n",
    "You'll be given transactional data showing user purchases made on the app including the timestamp of purchase and the amount of money spent on a purchase. This transactional data also has a record for each offer that a user receives as well as a record for when a user actually views the offer. There are also records for when a user completes an offer. \n",
    "\n",
    "Keep in mind as well that someone using the app might make a purchase through the app without having received an offer or seen an offer.\n",
    "\n",
    "### Example\n",
    "\n",
    "To give an example, a user could receive a discount offer buy 10 dollars get 2 off on Monday. The offer is valid for 10 days from receipt. If the customer accumulates at least 10 dollars in purchases during the validity period, the customer completes the offer.\n",
    "\n",
    "However, there are a few things to watch out for in this data set. Customers do not opt into the offers that they receive; in other words, a user can receive an offer, never actually view the offer, and still complete the offer. For example, a user might receive the \"buy 10 dollars get 2 dollars off offer\", but the user never opens the offer during the 10 day validity period. The customer spends 15 dollars during those ten days. There will be an offer completion record in the data set; however, the customer was not influenced by the offer because the customer never viewed the offer.\n",
    "\n",
    "### Cleaning\n",
    "\n",
    "This makes data cleaning especially important and tricky.\n",
    "\n",
    "You'll also want to take into account that some demographic groups will make purchases even if they don't receive an offer. From a business perspective, if a customer is going to make a 10 dollar purchase without an offer anyway, you wouldn't want to send a buy 10 dollars get 2 dollars off offer. You'll want to try to assess what a certain demographic group will buy when not receiving any offers.\n",
    "\n",
    "### Final Advice\n",
    "\n",
    "Because this is a capstone project, you are free to analyze the data any way you see fit. For example, you could build a machine learning model that predicts how much someone will spend based on demographics and offer type. Or you could build a model that predicts whether or not someone will respond to an offer. Or, you don't need to build a machine learning model at all. You could develop a set of heuristics that determine what offer you should send to each customer (i.e., 75 percent of women customers who were 35 years old responded to offer A vs 40 percent from the same demographic to offer B, so send offer A)."
   ]
  },
  {
   "cell_type": "markdown",
   "metadata": {},
   "source": [
    "# Data Sets\n",
    "\n",
    "The data is contained in three files:\n",
    "\n",
    "* portfolio.json - containing offer ids and meta data about each offer (duration, type, etc.)\n",
    "* profile.json - demographic data for each customer\n",
    "* transcript.json - records for transactions, offers received, offers viewed, and offers completed\n",
    "\n",
    "Here is the schema and explanation of each variable in the files:\n",
    "\n",
    "**portfolio.json**\n",
    "* id (string) - offer id\n",
    "* offer_type (string) - type of offer ie BOGO, discount, informational\n",
    "* difficulty (int) - minimum required spend to complete an offer\n",
    "* reward (int) - reward given for completing an offer\n",
    "* duration (int) - time for offer to be open, in days\n",
    "* channels (list of strings)\n",
    "\n",
    "**profile.json**\n",
    "* age (int) - age of the customer \n",
    "* became_member_on (int) - date when customer created an app account\n",
    "* gender (str) - gender of the customer (note some entries contain 'O' for other rather than M or F)\n",
    "* id (str) - customer id\n",
    "* income (float) - customer's income\n",
    "\n",
    "**transcript.json**\n",
    "* event (str) - record description (ie transaction, offer received, offer viewed, etc.)\n",
    "* person (str) - customer id\n",
    "* time (int) - time in hours since start of test. The data begins at time t=0\n",
    "* value - (dict of strings) - either an offer id or transaction amount depending on the record\n",
    "\n",
    "**Note:** If you are using the workspace, you will need to go to the terminal and run the command `conda update pandas` before reading in the files. This is because the version of pandas in the workspace cannot read in the transcript.json file correctly, but the newest version of pandas can. You can access the termnal from the orange icon in the top left of this notebook.  \n",
    "\n",
    "You can see how to access the terminal and how the install works using the two images below.  First you need to access the terminal:\n",
    "\n",
    "<img src=\"pic1.png\"/>\n",
    "\n",
    "Then you will want to run the above command:\n",
    "\n",
    "<img src=\"pic2.png\"/>\n",
    "\n",
    "Finally, when you enter back into the notebook (use the jupyter icon again), you should be able to run the below cell without any errors."
   ]
  },
  {
   "cell_type": "code",
   "execution_count": 1,
   "metadata": {},
   "outputs": [],
   "source": [
    "import pandas as pd\n",
    "import numpy as np\n",
    "import math\n",
    "import json\n",
    "import seaborn as sns\n",
    "import matplotlib.pyplot as plt\n",
    "import matplotlib.dates as mdates\n",
    "%matplotlib inline\n"
   ]
  },
  {
   "cell_type": "code",
   "execution_count": 2,
   "metadata": {},
   "outputs": [],
   "source": [
    "# read in the json files\n",
    "portfolio = pd.read_json('data/portfolio.json', orient='records', lines=True)\n",
    "profile = pd.read_json('data/profile.json', orient='records', lines=True)\n",
    "transcript = pd.read_json('data/transcript.json', orient='records', lines=True)"
   ]
  },
  {
   "cell_type": "code",
   "execution_count": 3,
   "metadata": {},
   "outputs": [
    {
     "data": {
      "text/html": [
       "<div>\n",
       "<style scoped>\n",
       "    .dataframe tbody tr th:only-of-type {\n",
       "        vertical-align: middle;\n",
       "    }\n",
       "\n",
       "    .dataframe tbody tr th {\n",
       "        vertical-align: top;\n",
       "    }\n",
       "\n",
       "    .dataframe thead th {\n",
       "        text-align: right;\n",
       "    }\n",
       "</style>\n",
       "<table border=\"1\" class=\"dataframe\">\n",
       "  <thead>\n",
       "    <tr style=\"text-align: right;\">\n",
       "      <th></th>\n",
       "      <th>channels</th>\n",
       "      <th>difficulty</th>\n",
       "      <th>duration</th>\n",
       "      <th>id</th>\n",
       "      <th>offer_type</th>\n",
       "      <th>reward</th>\n",
       "    </tr>\n",
       "  </thead>\n",
       "  <tbody>\n",
       "    <tr>\n",
       "      <th>0</th>\n",
       "      <td>[email, mobile, social]</td>\n",
       "      <td>10</td>\n",
       "      <td>7</td>\n",
       "      <td>ae264e3637204a6fb9bb56bc8210ddfd</td>\n",
       "      <td>bogo</td>\n",
       "      <td>10</td>\n",
       "    </tr>\n",
       "    <tr>\n",
       "      <th>1</th>\n",
       "      <td>[web, email, mobile, social]</td>\n",
       "      <td>10</td>\n",
       "      <td>5</td>\n",
       "      <td>4d5c57ea9a6940dd891ad53e9dbe8da0</td>\n",
       "      <td>bogo</td>\n",
       "      <td>10</td>\n",
       "    </tr>\n",
       "    <tr>\n",
       "      <th>2</th>\n",
       "      <td>[web, email, mobile]</td>\n",
       "      <td>0</td>\n",
       "      <td>4</td>\n",
       "      <td>3f207df678b143eea3cee63160fa8bed</td>\n",
       "      <td>informational</td>\n",
       "      <td>0</td>\n",
       "    </tr>\n",
       "    <tr>\n",
       "      <th>3</th>\n",
       "      <td>[web, email, mobile]</td>\n",
       "      <td>5</td>\n",
       "      <td>7</td>\n",
       "      <td>9b98b8c7a33c4b65b9aebfe6a799e6d9</td>\n",
       "      <td>bogo</td>\n",
       "      <td>5</td>\n",
       "    </tr>\n",
       "    <tr>\n",
       "      <th>4</th>\n",
       "      <td>[web, email]</td>\n",
       "      <td>20</td>\n",
       "      <td>10</td>\n",
       "      <td>0b1e1539f2cc45b7b9fa7c272da2e1d7</td>\n",
       "      <td>discount</td>\n",
       "      <td>5</td>\n",
       "    </tr>\n",
       "  </tbody>\n",
       "</table>\n",
       "</div>"
      ],
      "text/plain": [
       "                       channels  difficulty  duration  \\\n",
       "0       [email, mobile, social]          10         7   \n",
       "1  [web, email, mobile, social]          10         5   \n",
       "2          [web, email, mobile]           0         4   \n",
       "3          [web, email, mobile]           5         7   \n",
       "4                  [web, email]          20        10   \n",
       "\n",
       "                                 id     offer_type  reward  \n",
       "0  ae264e3637204a6fb9bb56bc8210ddfd           bogo      10  \n",
       "1  4d5c57ea9a6940dd891ad53e9dbe8da0           bogo      10  \n",
       "2  3f207df678b143eea3cee63160fa8bed  informational       0  \n",
       "3  9b98b8c7a33c4b65b9aebfe6a799e6d9           bogo       5  \n",
       "4  0b1e1539f2cc45b7b9fa7c272da2e1d7       discount       5  "
      ]
     },
     "execution_count": 3,
     "metadata": {},
     "output_type": "execute_result"
    }
   ],
   "source": [
    "portfolio.head()"
   ]
  },
  {
   "cell_type": "code",
   "execution_count": 4,
   "metadata": {},
   "outputs": [
    {
     "data": {
      "text/html": [
       "<div>\n",
       "<style scoped>\n",
       "    .dataframe tbody tr th:only-of-type {\n",
       "        vertical-align: middle;\n",
       "    }\n",
       "\n",
       "    .dataframe tbody tr th {\n",
       "        vertical-align: top;\n",
       "    }\n",
       "\n",
       "    .dataframe thead th {\n",
       "        text-align: right;\n",
       "    }\n",
       "</style>\n",
       "<table border=\"1\" class=\"dataframe\">\n",
       "  <thead>\n",
       "    <tr style=\"text-align: right;\">\n",
       "      <th></th>\n",
       "      <th>age</th>\n",
       "      <th>became_member_on</th>\n",
       "      <th>gender</th>\n",
       "      <th>id</th>\n",
       "      <th>income</th>\n",
       "    </tr>\n",
       "  </thead>\n",
       "  <tbody>\n",
       "    <tr>\n",
       "      <th>0</th>\n",
       "      <td>118</td>\n",
       "      <td>20170212</td>\n",
       "      <td>None</td>\n",
       "      <td>68be06ca386d4c31939f3a4f0e3dd783</td>\n",
       "      <td>NaN</td>\n",
       "    </tr>\n",
       "    <tr>\n",
       "      <th>1</th>\n",
       "      <td>55</td>\n",
       "      <td>20170715</td>\n",
       "      <td>F</td>\n",
       "      <td>0610b486422d4921ae7d2bf64640c50b</td>\n",
       "      <td>112000.0</td>\n",
       "    </tr>\n",
       "    <tr>\n",
       "      <th>2</th>\n",
       "      <td>118</td>\n",
       "      <td>20180712</td>\n",
       "      <td>None</td>\n",
       "      <td>38fe809add3b4fcf9315a9694bb96ff5</td>\n",
       "      <td>NaN</td>\n",
       "    </tr>\n",
       "    <tr>\n",
       "      <th>3</th>\n",
       "      <td>75</td>\n",
       "      <td>20170509</td>\n",
       "      <td>F</td>\n",
       "      <td>78afa995795e4d85b5d9ceeca43f5fef</td>\n",
       "      <td>100000.0</td>\n",
       "    </tr>\n",
       "    <tr>\n",
       "      <th>4</th>\n",
       "      <td>118</td>\n",
       "      <td>20170804</td>\n",
       "      <td>None</td>\n",
       "      <td>a03223e636434f42ac4c3df47e8bac43</td>\n",
       "      <td>NaN</td>\n",
       "    </tr>\n",
       "  </tbody>\n",
       "</table>\n",
       "</div>"
      ],
      "text/plain": [
       "   age  became_member_on gender                                id    income\n",
       "0  118          20170212   None  68be06ca386d4c31939f3a4f0e3dd783       NaN\n",
       "1   55          20170715      F  0610b486422d4921ae7d2bf64640c50b  112000.0\n",
       "2  118          20180712   None  38fe809add3b4fcf9315a9694bb96ff5       NaN\n",
       "3   75          20170509      F  78afa995795e4d85b5d9ceeca43f5fef  100000.0\n",
       "4  118          20170804   None  a03223e636434f42ac4c3df47e8bac43       NaN"
      ]
     },
     "execution_count": 4,
     "metadata": {},
     "output_type": "execute_result"
    }
   ],
   "source": [
    "profile.head()"
   ]
  },
  {
   "cell_type": "code",
   "execution_count": 5,
   "metadata": {},
   "outputs": [
    {
     "data": {
      "text/html": [
       "<div>\n",
       "<style scoped>\n",
       "    .dataframe tbody tr th:only-of-type {\n",
       "        vertical-align: middle;\n",
       "    }\n",
       "\n",
       "    .dataframe tbody tr th {\n",
       "        vertical-align: top;\n",
       "    }\n",
       "\n",
       "    .dataframe thead th {\n",
       "        text-align: right;\n",
       "    }\n",
       "</style>\n",
       "<table border=\"1\" class=\"dataframe\">\n",
       "  <thead>\n",
       "    <tr style=\"text-align: right;\">\n",
       "      <th></th>\n",
       "      <th>event</th>\n",
       "      <th>person</th>\n",
       "      <th>time</th>\n",
       "      <th>value</th>\n",
       "    </tr>\n",
       "  </thead>\n",
       "  <tbody>\n",
       "    <tr>\n",
       "      <th>0</th>\n",
       "      <td>offer received</td>\n",
       "      <td>78afa995795e4d85b5d9ceeca43f5fef</td>\n",
       "      <td>0</td>\n",
       "      <td>{'offer id': '9b98b8c7a33c4b65b9aebfe6a799e6d9'}</td>\n",
       "    </tr>\n",
       "    <tr>\n",
       "      <th>1</th>\n",
       "      <td>offer received</td>\n",
       "      <td>a03223e636434f42ac4c3df47e8bac43</td>\n",
       "      <td>0</td>\n",
       "      <td>{'offer id': '0b1e1539f2cc45b7b9fa7c272da2e1d7'}</td>\n",
       "    </tr>\n",
       "    <tr>\n",
       "      <th>2</th>\n",
       "      <td>offer received</td>\n",
       "      <td>e2127556f4f64592b11af22de27a7932</td>\n",
       "      <td>0</td>\n",
       "      <td>{'offer id': '2906b810c7d4411798c6938adc9daaa5'}</td>\n",
       "    </tr>\n",
       "    <tr>\n",
       "      <th>3</th>\n",
       "      <td>offer received</td>\n",
       "      <td>8ec6ce2a7e7949b1bf142def7d0e0586</td>\n",
       "      <td>0</td>\n",
       "      <td>{'offer id': 'fafdcd668e3743c1bb461111dcafc2a4'}</td>\n",
       "    </tr>\n",
       "    <tr>\n",
       "      <th>4</th>\n",
       "      <td>offer received</td>\n",
       "      <td>68617ca6246f4fbc85e91a2a49552598</td>\n",
       "      <td>0</td>\n",
       "      <td>{'offer id': '4d5c57ea9a6940dd891ad53e9dbe8da0'}</td>\n",
       "    </tr>\n",
       "  </tbody>\n",
       "</table>\n",
       "</div>"
      ],
      "text/plain": [
       "            event                            person  time  \\\n",
       "0  offer received  78afa995795e4d85b5d9ceeca43f5fef     0   \n",
       "1  offer received  a03223e636434f42ac4c3df47e8bac43     0   \n",
       "2  offer received  e2127556f4f64592b11af22de27a7932     0   \n",
       "3  offer received  8ec6ce2a7e7949b1bf142def7d0e0586     0   \n",
       "4  offer received  68617ca6246f4fbc85e91a2a49552598     0   \n",
       "\n",
       "                                              value  \n",
       "0  {'offer id': '9b98b8c7a33c4b65b9aebfe6a799e6d9'}  \n",
       "1  {'offer id': '0b1e1539f2cc45b7b9fa7c272da2e1d7'}  \n",
       "2  {'offer id': '2906b810c7d4411798c6938adc9daaa5'}  \n",
       "3  {'offer id': 'fafdcd668e3743c1bb461111dcafc2a4'}  \n",
       "4  {'offer id': '4d5c57ea9a6940dd891ad53e9dbe8da0'}  "
      ]
     },
     "execution_count": 5,
     "metadata": {},
     "output_type": "execute_result"
    }
   ],
   "source": [
    "transcript.head()"
   ]
  },
  {
   "cell_type": "markdown",
   "metadata": {},
   "source": [
    "# Cleaning and Exploratory analysis\n",
    "\n",
    "In this section I will have a brief look at the different datasets, one at the time. The goal of this section is to get familiar with the data available, and start investigating the need for and possibilities to clean and impute the data sets if necessary. \n",
    "\n",
    "## Portfolio dataset\n",
    "The portfolio dataset contains information about the different offers that has been issued. We start by investigating each column and the values found, amount of missing values and ranges of data to see what they mean. \n",
    "\n",
    "Let's start by looking at the content of the columns"
   ]
  },
  {
   "cell_type": "code",
   "execution_count": 6,
   "metadata": {},
   "outputs": [
    {
     "name": "stdout",
     "output_type": "stream",
     "text": [
      "portfolio.json has the following shape:  (10, 6)\n"
     ]
    }
   ],
   "source": [
    "print(\"portfolio.json has the following shape: \", portfolio.shape)"
   ]
  },
  {
   "cell_type": "markdown",
   "metadata": {},
   "source": [
    "There are 10 offers summarised in the portfolio data. Lets look at all of them as the dataframe is quite small all in all. "
   ]
  },
  {
   "cell_type": "code",
   "execution_count": 7,
   "metadata": {},
   "outputs": [
    {
     "data": {
      "text/html": [
       "<div>\n",
       "<style scoped>\n",
       "    .dataframe tbody tr th:only-of-type {\n",
       "        vertical-align: middle;\n",
       "    }\n",
       "\n",
       "    .dataframe tbody tr th {\n",
       "        vertical-align: top;\n",
       "    }\n",
       "\n",
       "    .dataframe thead th {\n",
       "        text-align: right;\n",
       "    }\n",
       "</style>\n",
       "<table border=\"1\" class=\"dataframe\">\n",
       "  <thead>\n",
       "    <tr style=\"text-align: right;\">\n",
       "      <th></th>\n",
       "      <th>channels</th>\n",
       "      <th>difficulty</th>\n",
       "      <th>duration</th>\n",
       "      <th>id</th>\n",
       "      <th>offer_type</th>\n",
       "      <th>reward</th>\n",
       "    </tr>\n",
       "  </thead>\n",
       "  <tbody>\n",
       "    <tr>\n",
       "      <th>0</th>\n",
       "      <td>[email, mobile, social]</td>\n",
       "      <td>10</td>\n",
       "      <td>7</td>\n",
       "      <td>ae264e3637204a6fb9bb56bc8210ddfd</td>\n",
       "      <td>bogo</td>\n",
       "      <td>10</td>\n",
       "    </tr>\n",
       "    <tr>\n",
       "      <th>1</th>\n",
       "      <td>[web, email, mobile, social]</td>\n",
       "      <td>10</td>\n",
       "      <td>5</td>\n",
       "      <td>4d5c57ea9a6940dd891ad53e9dbe8da0</td>\n",
       "      <td>bogo</td>\n",
       "      <td>10</td>\n",
       "    </tr>\n",
       "    <tr>\n",
       "      <th>2</th>\n",
       "      <td>[web, email, mobile]</td>\n",
       "      <td>0</td>\n",
       "      <td>4</td>\n",
       "      <td>3f207df678b143eea3cee63160fa8bed</td>\n",
       "      <td>informational</td>\n",
       "      <td>0</td>\n",
       "    </tr>\n",
       "    <tr>\n",
       "      <th>3</th>\n",
       "      <td>[web, email, mobile]</td>\n",
       "      <td>5</td>\n",
       "      <td>7</td>\n",
       "      <td>9b98b8c7a33c4b65b9aebfe6a799e6d9</td>\n",
       "      <td>bogo</td>\n",
       "      <td>5</td>\n",
       "    </tr>\n",
       "    <tr>\n",
       "      <th>4</th>\n",
       "      <td>[web, email]</td>\n",
       "      <td>20</td>\n",
       "      <td>10</td>\n",
       "      <td>0b1e1539f2cc45b7b9fa7c272da2e1d7</td>\n",
       "      <td>discount</td>\n",
       "      <td>5</td>\n",
       "    </tr>\n",
       "    <tr>\n",
       "      <th>5</th>\n",
       "      <td>[web, email, mobile, social]</td>\n",
       "      <td>7</td>\n",
       "      <td>7</td>\n",
       "      <td>2298d6c36e964ae4a3e7e9706d1fb8c2</td>\n",
       "      <td>discount</td>\n",
       "      <td>3</td>\n",
       "    </tr>\n",
       "    <tr>\n",
       "      <th>6</th>\n",
       "      <td>[web, email, mobile, social]</td>\n",
       "      <td>10</td>\n",
       "      <td>10</td>\n",
       "      <td>fafdcd668e3743c1bb461111dcafc2a4</td>\n",
       "      <td>discount</td>\n",
       "      <td>2</td>\n",
       "    </tr>\n",
       "    <tr>\n",
       "      <th>7</th>\n",
       "      <td>[email, mobile, social]</td>\n",
       "      <td>0</td>\n",
       "      <td>3</td>\n",
       "      <td>5a8bc65990b245e5a138643cd4eb9837</td>\n",
       "      <td>informational</td>\n",
       "      <td>0</td>\n",
       "    </tr>\n",
       "    <tr>\n",
       "      <th>8</th>\n",
       "      <td>[web, email, mobile, social]</td>\n",
       "      <td>5</td>\n",
       "      <td>5</td>\n",
       "      <td>f19421c1d4aa40978ebb69ca19b0e20d</td>\n",
       "      <td>bogo</td>\n",
       "      <td>5</td>\n",
       "    </tr>\n",
       "    <tr>\n",
       "      <th>9</th>\n",
       "      <td>[web, email, mobile]</td>\n",
       "      <td>10</td>\n",
       "      <td>7</td>\n",
       "      <td>2906b810c7d4411798c6938adc9daaa5</td>\n",
       "      <td>discount</td>\n",
       "      <td>2</td>\n",
       "    </tr>\n",
       "  </tbody>\n",
       "</table>\n",
       "</div>"
      ],
      "text/plain": [
       "                       channels  difficulty  duration  \\\n",
       "0       [email, mobile, social]          10         7   \n",
       "1  [web, email, mobile, social]          10         5   \n",
       "2          [web, email, mobile]           0         4   \n",
       "3          [web, email, mobile]           5         7   \n",
       "4                  [web, email]          20        10   \n",
       "5  [web, email, mobile, social]           7         7   \n",
       "6  [web, email, mobile, social]          10        10   \n",
       "7       [email, mobile, social]           0         3   \n",
       "8  [web, email, mobile, social]           5         5   \n",
       "9          [web, email, mobile]          10         7   \n",
       "\n",
       "                                 id     offer_type  reward  \n",
       "0  ae264e3637204a6fb9bb56bc8210ddfd           bogo      10  \n",
       "1  4d5c57ea9a6940dd891ad53e9dbe8da0           bogo      10  \n",
       "2  3f207df678b143eea3cee63160fa8bed  informational       0  \n",
       "3  9b98b8c7a33c4b65b9aebfe6a799e6d9           bogo       5  \n",
       "4  0b1e1539f2cc45b7b9fa7c272da2e1d7       discount       5  \n",
       "5  2298d6c36e964ae4a3e7e9706d1fb8c2       discount       3  \n",
       "6  fafdcd668e3743c1bb461111dcafc2a4       discount       2  \n",
       "7  5a8bc65990b245e5a138643cd4eb9837  informational       0  \n",
       "8  f19421c1d4aa40978ebb69ca19b0e20d           bogo       5  \n",
       "9  2906b810c7d4411798c6938adc9daaa5       discount       2  "
      ]
     },
     "execution_count": 7,
     "metadata": {},
     "output_type": "execute_result"
    }
   ],
   "source": [
    "portfolio"
   ]
  },
  {
   "cell_type": "code",
   "execution_count": 8,
   "metadata": {},
   "outputs": [
    {
     "data": {
      "text/plain": [
       "0    False\n",
       "1    False\n",
       "2    False\n",
       "3    False\n",
       "4    False\n",
       "5    False\n",
       "6    False\n",
       "7    False\n",
       "8    False\n",
       "9    False\n",
       "dtype: bool"
      ]
     },
     "execution_count": 8,
     "metadata": {},
     "output_type": "execute_result"
    }
   ],
   "source": [
    "portfolio.duplicated(subset='id')"
   ]
  },
  {
   "cell_type": "markdown",
   "metadata": {},
   "source": [
    "We can see from this that there are no missing values and no duplicated IDs. The duration spans from 3 to 10 days, the amount required to spend from 0 (informational offers) to 20 Dollars. The reward span from 0 (informational offers) to 10 Dollars.\n",
    "\n",
    "We can see that there is a list of channels lumped together. We should prepare this to be dummy values so that we can see if the channel influence at all later. \n",
    "\n",
    "We also see that offertype could be represented by dummy values. However, it might be handy still to keep the value in the column, but for potential use in analysis we also add dummy columns for type. "
   ]
  },
  {
   "cell_type": "code",
   "execution_count": 9,
   "metadata": {},
   "outputs": [
    {
     "data": {
      "text/plain": [
       "[['email', 'mobile', 'social'],\n",
       " ['web', 'email', 'mobile', 'social'],\n",
       " ['web', 'email', 'mobile'],\n",
       " ['web', 'email', 'mobile'],\n",
       " ['web', 'email'],\n",
       " ['web', 'email', 'mobile', 'social'],\n",
       " ['web', 'email', 'mobile', 'social'],\n",
       " ['email', 'mobile', 'social'],\n",
       " ['web', 'email', 'mobile', 'social'],\n",
       " ['web', 'email', 'mobile']]"
      ]
     },
     "execution_count": 9,
     "metadata": {},
     "output_type": "execute_result"
    }
   ],
   "source": [
    "[c[1] for c in portfolio['channels'].items()]"
   ]
  },
  {
   "cell_type": "code",
   "execution_count": 10,
   "metadata": {},
   "outputs": [
    {
     "name": "stdout",
     "output_type": "stream",
     "text": [
      "Unique channels:  ['email' 'mobile' 'social' 'web']\n"
     ]
    },
    {
     "data": {
      "text/html": [
       "<div>\n",
       "<style scoped>\n",
       "    .dataframe tbody tr th:only-of-type {\n",
       "        vertical-align: middle;\n",
       "    }\n",
       "\n",
       "    .dataframe tbody tr th {\n",
       "        vertical-align: top;\n",
       "    }\n",
       "\n",
       "    .dataframe thead th {\n",
       "        text-align: right;\n",
       "    }\n",
       "</style>\n",
       "<table border=\"1\" class=\"dataframe\">\n",
       "  <thead>\n",
       "    <tr style=\"text-align: right;\">\n",
       "      <th></th>\n",
       "      <th>difficulty</th>\n",
       "      <th>duration</th>\n",
       "      <th>id</th>\n",
       "      <th>offer_type</th>\n",
       "      <th>reward</th>\n",
       "      <th>channel_email</th>\n",
       "      <th>channel_mobile</th>\n",
       "      <th>channel_social</th>\n",
       "      <th>channel_web</th>\n",
       "    </tr>\n",
       "  </thead>\n",
       "  <tbody>\n",
       "    <tr>\n",
       "      <th>0</th>\n",
       "      <td>10</td>\n",
       "      <td>7</td>\n",
       "      <td>ae264e3637204a6fb9bb56bc8210ddfd</td>\n",
       "      <td>bogo</td>\n",
       "      <td>10</td>\n",
       "      <td>1</td>\n",
       "      <td>1</td>\n",
       "      <td>1</td>\n",
       "      <td>0</td>\n",
       "    </tr>\n",
       "    <tr>\n",
       "      <th>1</th>\n",
       "      <td>10</td>\n",
       "      <td>5</td>\n",
       "      <td>4d5c57ea9a6940dd891ad53e9dbe8da0</td>\n",
       "      <td>bogo</td>\n",
       "      <td>10</td>\n",
       "      <td>1</td>\n",
       "      <td>1</td>\n",
       "      <td>1</td>\n",
       "      <td>1</td>\n",
       "    </tr>\n",
       "    <tr>\n",
       "      <th>2</th>\n",
       "      <td>0</td>\n",
       "      <td>4</td>\n",
       "      <td>3f207df678b143eea3cee63160fa8bed</td>\n",
       "      <td>informational</td>\n",
       "      <td>0</td>\n",
       "      <td>1</td>\n",
       "      <td>1</td>\n",
       "      <td>0</td>\n",
       "      <td>1</td>\n",
       "    </tr>\n",
       "    <tr>\n",
       "      <th>3</th>\n",
       "      <td>5</td>\n",
       "      <td>7</td>\n",
       "      <td>9b98b8c7a33c4b65b9aebfe6a799e6d9</td>\n",
       "      <td>bogo</td>\n",
       "      <td>5</td>\n",
       "      <td>1</td>\n",
       "      <td>1</td>\n",
       "      <td>0</td>\n",
       "      <td>1</td>\n",
       "    </tr>\n",
       "    <tr>\n",
       "      <th>4</th>\n",
       "      <td>20</td>\n",
       "      <td>10</td>\n",
       "      <td>0b1e1539f2cc45b7b9fa7c272da2e1d7</td>\n",
       "      <td>discount</td>\n",
       "      <td>5</td>\n",
       "      <td>1</td>\n",
       "      <td>0</td>\n",
       "      <td>0</td>\n",
       "      <td>1</td>\n",
       "    </tr>\n",
       "    <tr>\n",
       "      <th>5</th>\n",
       "      <td>7</td>\n",
       "      <td>7</td>\n",
       "      <td>2298d6c36e964ae4a3e7e9706d1fb8c2</td>\n",
       "      <td>discount</td>\n",
       "      <td>3</td>\n",
       "      <td>1</td>\n",
       "      <td>1</td>\n",
       "      <td>1</td>\n",
       "      <td>1</td>\n",
       "    </tr>\n",
       "    <tr>\n",
       "      <th>6</th>\n",
       "      <td>10</td>\n",
       "      <td>10</td>\n",
       "      <td>fafdcd668e3743c1bb461111dcafc2a4</td>\n",
       "      <td>discount</td>\n",
       "      <td>2</td>\n",
       "      <td>1</td>\n",
       "      <td>1</td>\n",
       "      <td>1</td>\n",
       "      <td>1</td>\n",
       "    </tr>\n",
       "    <tr>\n",
       "      <th>7</th>\n",
       "      <td>0</td>\n",
       "      <td>3</td>\n",
       "      <td>5a8bc65990b245e5a138643cd4eb9837</td>\n",
       "      <td>informational</td>\n",
       "      <td>0</td>\n",
       "      <td>1</td>\n",
       "      <td>1</td>\n",
       "      <td>1</td>\n",
       "      <td>0</td>\n",
       "    </tr>\n",
       "    <tr>\n",
       "      <th>8</th>\n",
       "      <td>5</td>\n",
       "      <td>5</td>\n",
       "      <td>f19421c1d4aa40978ebb69ca19b0e20d</td>\n",
       "      <td>bogo</td>\n",
       "      <td>5</td>\n",
       "      <td>1</td>\n",
       "      <td>1</td>\n",
       "      <td>1</td>\n",
       "      <td>1</td>\n",
       "    </tr>\n",
       "    <tr>\n",
       "      <th>9</th>\n",
       "      <td>10</td>\n",
       "      <td>7</td>\n",
       "      <td>2906b810c7d4411798c6938adc9daaa5</td>\n",
       "      <td>discount</td>\n",
       "      <td>2</td>\n",
       "      <td>1</td>\n",
       "      <td>1</td>\n",
       "      <td>0</td>\n",
       "      <td>1</td>\n",
       "    </tr>\n",
       "  </tbody>\n",
       "</table>\n",
       "</div>"
      ],
      "text/plain": [
       "   difficulty  duration                                id     offer_type  \\\n",
       "0          10         7  ae264e3637204a6fb9bb56bc8210ddfd           bogo   \n",
       "1          10         5  4d5c57ea9a6940dd891ad53e9dbe8da0           bogo   \n",
       "2           0         4  3f207df678b143eea3cee63160fa8bed  informational   \n",
       "3           5         7  9b98b8c7a33c4b65b9aebfe6a799e6d9           bogo   \n",
       "4          20        10  0b1e1539f2cc45b7b9fa7c272da2e1d7       discount   \n",
       "5           7         7  2298d6c36e964ae4a3e7e9706d1fb8c2       discount   \n",
       "6          10        10  fafdcd668e3743c1bb461111dcafc2a4       discount   \n",
       "7           0         3  5a8bc65990b245e5a138643cd4eb9837  informational   \n",
       "8           5         5  f19421c1d4aa40978ebb69ca19b0e20d           bogo   \n",
       "9          10         7  2906b810c7d4411798c6938adc9daaa5       discount   \n",
       "\n",
       "   reward  channel_email  channel_mobile  channel_social  channel_web  \n",
       "0      10              1               1               1            0  \n",
       "1      10              1               1               1            1  \n",
       "2       0              1               1               0            1  \n",
       "3       5              1               1               0            1  \n",
       "4       5              1               0               0            1  \n",
       "5       3              1               1               1            1  \n",
       "6       2              1               1               1            1  \n",
       "7       0              1               1               1            0  \n",
       "8       5              1               1               1            1  \n",
       "9       2              1               1               0            1  "
      ]
     },
     "execution_count": 10,
     "metadata": {},
     "output_type": "execute_result"
    }
   ],
   "source": [
    "#Get all unique channels\n",
    "channels = np.unique([channel for chans in portfolio['channels'].items() for channel in chans[1]])\n",
    "print(\"Unique channels: \", channels)\n",
    "portfolio_clean = portfolio.copy(deep=True) #To keep the original dataset, we copy the df\n",
    "for channel in channels:\n",
    "    portfolio_clean[\"channel_\" + channel] = portfolio['channels'].apply(lambda l: 1 if channel in l else 0)\n",
    "portfolio_clean.drop(columns='channels', inplace=True)\n",
    "portfolio_clean"
   ]
  },
  {
   "cell_type": "code",
   "execution_count": 11,
   "metadata": {},
   "outputs": [],
   "source": [
    "type_dummies = pd.get_dummies(portfolio_clean['offer_type'] ,prefix='type', prefix_sep='_')\n",
    "portfolio_clean = pd.concat((portfolio_clean, type_dummies), axis=1, sort=False)\n"
   ]
  },
  {
   "cell_type": "markdown",
   "metadata": {},
   "source": [
    "Not much more to do right now on the portfolio data, let's turn our heads to the user data in the profile dataframe."
   ]
  },
  {
   "cell_type": "markdown",
   "metadata": {},
   "source": [
    "## Profile dataset\n",
    "The profile dataset contains information about the users of the Starbucks rewards mobile app. \n",
    "\n",
    "Again, lets start by looking a bit on the content. From the above, we could see there are significantly more interesting things happening here with Nans and bad data input. \n",
    "\n",
    "But first, lets convert the \"became_member_on\" column from int to a timestamp to be used later"
   ]
  },
  {
   "cell_type": "code",
   "execution_count": 12,
   "metadata": {},
   "outputs": [
    {
     "data": {
      "text/html": [
       "<div>\n",
       "<style scoped>\n",
       "    .dataframe tbody tr th:only-of-type {\n",
       "        vertical-align: middle;\n",
       "    }\n",
       "\n",
       "    .dataframe tbody tr th {\n",
       "        vertical-align: top;\n",
       "    }\n",
       "\n",
       "    .dataframe thead th {\n",
       "        text-align: right;\n",
       "    }\n",
       "</style>\n",
       "<table border=\"1\" class=\"dataframe\">\n",
       "  <thead>\n",
       "    <tr style=\"text-align: right;\">\n",
       "      <th></th>\n",
       "      <th>age</th>\n",
       "      <th>became_member_on</th>\n",
       "      <th>gender</th>\n",
       "      <th>id</th>\n",
       "      <th>income</th>\n",
       "    </tr>\n",
       "  </thead>\n",
       "  <tbody>\n",
       "    <tr>\n",
       "      <th>0</th>\n",
       "      <td>118</td>\n",
       "      <td>2017-02-12</td>\n",
       "      <td>None</td>\n",
       "      <td>68be06ca386d4c31939f3a4f0e3dd783</td>\n",
       "      <td>NaN</td>\n",
       "    </tr>\n",
       "    <tr>\n",
       "      <th>1</th>\n",
       "      <td>55</td>\n",
       "      <td>2017-07-15</td>\n",
       "      <td>F</td>\n",
       "      <td>0610b486422d4921ae7d2bf64640c50b</td>\n",
       "      <td>112000.0</td>\n",
       "    </tr>\n",
       "    <tr>\n",
       "      <th>2</th>\n",
       "      <td>118</td>\n",
       "      <td>2018-07-12</td>\n",
       "      <td>None</td>\n",
       "      <td>38fe809add3b4fcf9315a9694bb96ff5</td>\n",
       "      <td>NaN</td>\n",
       "    </tr>\n",
       "    <tr>\n",
       "      <th>3</th>\n",
       "      <td>75</td>\n",
       "      <td>2017-05-09</td>\n",
       "      <td>F</td>\n",
       "      <td>78afa995795e4d85b5d9ceeca43f5fef</td>\n",
       "      <td>100000.0</td>\n",
       "    </tr>\n",
       "    <tr>\n",
       "      <th>4</th>\n",
       "      <td>118</td>\n",
       "      <td>2017-08-04</td>\n",
       "      <td>None</td>\n",
       "      <td>a03223e636434f42ac4c3df47e8bac43</td>\n",
       "      <td>NaN</td>\n",
       "    </tr>\n",
       "  </tbody>\n",
       "</table>\n",
       "</div>"
      ],
      "text/plain": [
       "   age became_member_on gender                                id    income\n",
       "0  118       2017-02-12   None  68be06ca386d4c31939f3a4f0e3dd783       NaN\n",
       "1   55       2017-07-15      F  0610b486422d4921ae7d2bf64640c50b  112000.0\n",
       "2  118       2018-07-12   None  38fe809add3b4fcf9315a9694bb96ff5       NaN\n",
       "3   75       2017-05-09      F  78afa995795e4d85b5d9ceeca43f5fef  100000.0\n",
       "4  118       2017-08-04   None  a03223e636434f42ac4c3df47e8bac43       NaN"
      ]
     },
     "execution_count": 12,
     "metadata": {},
     "output_type": "execute_result"
    }
   ],
   "source": [
    "profile['became_member_on'] = pd.to_datetime(profile['became_member_on'], format=\"%Y%m%d\")\n",
    "profile.head()"
   ]
  },
  {
   "cell_type": "code",
   "execution_count": 13,
   "metadata": {},
   "outputs": [
    {
     "name": "stdout",
     "output_type": "stream",
     "text": [
      "Profile data set has shape:  (17000, 5)\n",
      "There are 0 duplicated user ids\n"
     ]
    }
   ],
   "source": [
    "print(\"Profile data set has shape: \", profile.shape)\n",
    "print(\"There are {} duplicated user ids\".format(profile.duplicated(subset='id').sum()))"
   ]
  },
  {
   "cell_type": "markdown",
   "metadata": {},
   "source": [
    "There are 17000 unique users. Let's look at some stats about the content and unique values etc. to see if we should perform some initial cleaning"
   ]
  },
  {
   "cell_type": "code",
   "execution_count": 14,
   "metadata": {},
   "outputs": [
    {
     "name": "stdout",
     "output_type": "stream",
     "text": [
      "There are these unique gender values: \n",
      " [None 'F' 'M' 'O']\n",
      "\n",
      "There are these unique age values: \n",
      " [ 18  19  20  21  22  23  24  25  26  27  28  29  30  31  32  33  34  35\n",
      "  36  37  38  39  40  41  42  43  44  45  46  47  48  49  50  51  52  53\n",
      "  54  55  56  57  58  59  60  61  62  63  64  65  66  67  68  69  70  71\n",
      "  72  73  74  75  76  77  78  79  80  81  82  83  84  85  86  87  88  89\n",
      "  90  91  92  93  94  95  96  97  98  99 100 101 118]\n",
      "\n",
      "There are these unique income values: \n",
      " [ 30000.  31000.  32000.  33000.  34000.  35000.  36000.  37000.  38000.\n",
      "  39000.  40000.  41000.  42000.  43000.  44000.  45000.  46000.  47000.\n",
      "  48000.  49000.  50000.  51000.  52000.  53000.  54000.  55000.  56000.\n",
      "  57000.  58000.  59000.  60000.  61000.  62000.  63000.  64000.  65000.\n",
      "  66000.  67000.  68000.  69000.  70000.  71000.  72000.  73000.  74000.\n",
      "  75000.  76000.  77000.  78000.  79000.  80000.  81000.  82000.  83000.\n",
      "  84000.  85000.  86000.  87000.  88000.  89000.  90000.  91000.  92000.\n",
      "  93000.  94000.  95000.  96000.  97000.  98000.  99000. 100000. 101000.\n",
      " 102000. 103000. 104000. 105000. 106000. 107000. 108000. 109000. 110000.\n",
      " 111000. 112000. 113000. 114000. 115000. 116000. 117000. 118000. 119000.\n",
      " 120000.     nan]\n",
      "\n",
      "There are these unique registered date values: \n",
      " ['2013-07-29T00:00:00.000000000' '2013-07-30T00:00:00.000000000'\n",
      " '2013-07-31T00:00:00.000000000' ... '2018-07-24T00:00:00.000000000'\n",
      " '2018-07-25T00:00:00.000000000' '2018-07-26T00:00:00.000000000']\n"
     ]
    }
   ],
   "source": [
    "print(\"There are these unique gender values: \\n\", profile['gender'].unique())\n",
    "print(\"\\nThere are these unique age values: \\n\", np.sort(profile['age'].unique()))\n",
    "print(\"\\nThere are these unique income values: \\n\", np.sort(profile['income'].unique()))\n",
    "print(\"\\nThere are these unique registered date values: \\n\", np.sort(profile['became_member_on'].unique()))"
   ]
  },
  {
   "cell_type": "markdown",
   "metadata": {},
   "source": [
    "From the above we see that the are nans in income values and gender values. The rest seem to have values. \n",
    "\n",
    "However, the age column is a sneaky one. We can see quite alot of values above 90, could any of these be acting as a default value, if the user does not give the real one?"
   ]
  },
  {
   "cell_type": "markdown",
   "metadata": {},
   "source": [
    "### Age and age distribution"
   ]
  },
  {
   "cell_type": "markdown",
   "metadata": {},
   "source": [
    "Lets have a closer look at the number of users for each age bin"
   ]
  },
  {
   "cell_type": "code",
   "execution_count": 15,
   "metadata": {},
   "outputs": [
    {
     "data": {
      "image/png": "[encoded data removed]",
      "text/plain": [
       "<Figure size 432x288 with 1 Axes>"
      ]
     },
     "metadata": {
      "needs_background": "light"
     },
     "output_type": "display_data"
    }
   ],
   "source": [
    "ax = sns.distplot(profile['age']);\n",
    "ax.set_title('Total distribution');"
   ]
  },
  {
   "cell_type": "code",
   "execution_count": 16,
   "metadata": {},
   "outputs": [
    {
     "data": {
      "image/png": "[encoded data removed]",
      "text/plain": [
       "<Figure size 432x432 with 3 Axes>"
      ]
     },
     "metadata": {
      "needs_background": "light"
     },
     "output_type": "display_data"
    }
   ],
   "source": [
    "g = sns.FacetGrid(profile, col='gender', col_wrap=2)\n",
    "g.map(sns.distplot, 'age');"
   ]
  },
  {
   "cell_type": "code",
   "execution_count": 17,
   "metadata": {
    "scrolled": true
   },
   "outputs": [
    {
     "name": "stdout",
     "output_type": "stream",
     "text": [
      "For gender None, the unique values of age column is: \n"
     ]
    },
    {
     "data": {
      "text/plain": [
       "118"
      ]
     },
     "execution_count": 17,
     "metadata": {},
     "output_type": "execute_result"
    }
   ],
   "source": [
    "profile_gender_mod = profile.copy(deep=True)\n",
    "\n",
    "profile_gender_mod['gender'] = profile['gender'].apply(lambda g: 'Unknown' if g is None else g)\n",
    "\n",
    "print(\"For gender None, the unique values of age column is: \")\n",
    "profile_gender_mod.loc[profile_gender_mod['gender']=='Unknown', 'age'].unique()[0]"
   ]
  },
  {
   "cell_type": "markdown",
   "metadata": {},
   "source": [
    "We see that when we make a distribution of **all** the users there is a significant amount of entries at age 118. The other genders are fairly representative distributions\n",
    "\n",
    "\n",
    "However, when we plot the subsets by gender, we can see that there is basically no entries above 100 years of age. That's more expected. We also see that there is a 1:1 correlation between not having a gender, and having the age of 118. Thus we can conclude that this is probably a default value for a user that has not set any profile values. We should maybe mark age 118 as nan. \n",
    "\n",
    "A natural hypothesis is then that the missing income values are also linked to these users. Let's dig into rows with None gender as value."
   ]
  },
  {
   "cell_type": "markdown",
   "metadata": {},
   "source": [
    "### \"Default\" profiles - not updated information"
   ]
  },
  {
   "cell_type": "code",
   "execution_count": 18,
   "metadata": {},
   "outputs": [
    {
     "data": {
      "text/html": [
       "<div>\n",
       "<style scoped>\n",
       "    .dataframe tbody tr th:only-of-type {\n",
       "        vertical-align: middle;\n",
       "    }\n",
       "\n",
       "    .dataframe tbody tr th {\n",
       "        vertical-align: top;\n",
       "    }\n",
       "\n",
       "    .dataframe thead th {\n",
       "        text-align: right;\n",
       "    }\n",
       "</style>\n",
       "<table border=\"1\" class=\"dataframe\">\n",
       "  <thead>\n",
       "    <tr style=\"text-align: right;\">\n",
       "      <th></th>\n",
       "      <th>age</th>\n",
       "      <th>became_member_on</th>\n",
       "      <th>gender</th>\n",
       "      <th>id</th>\n",
       "      <th>income</th>\n",
       "    </tr>\n",
       "  </thead>\n",
       "  <tbody>\n",
       "    <tr>\n",
       "      <th>0</th>\n",
       "      <td>118</td>\n",
       "      <td>2017-02-12</td>\n",
       "      <td>None</td>\n",
       "      <td>68be06ca386d4c31939f3a4f0e3dd783</td>\n",
       "      <td>NaN</td>\n",
       "    </tr>\n",
       "    <tr>\n",
       "      <th>2</th>\n",
       "      <td>118</td>\n",
       "      <td>2018-07-12</td>\n",
       "      <td>None</td>\n",
       "      <td>38fe809add3b4fcf9315a9694bb96ff5</td>\n",
       "      <td>NaN</td>\n",
       "    </tr>\n",
       "    <tr>\n",
       "      <th>4</th>\n",
       "      <td>118</td>\n",
       "      <td>2017-08-04</td>\n",
       "      <td>None</td>\n",
       "      <td>a03223e636434f42ac4c3df47e8bac43</td>\n",
       "      <td>NaN</td>\n",
       "    </tr>\n",
       "    <tr>\n",
       "      <th>6</th>\n",
       "      <td>118</td>\n",
       "      <td>2017-09-25</td>\n",
       "      <td>None</td>\n",
       "      <td>8ec6ce2a7e7949b1bf142def7d0e0586</td>\n",
       "      <td>NaN</td>\n",
       "    </tr>\n",
       "    <tr>\n",
       "      <th>7</th>\n",
       "      <td>118</td>\n",
       "      <td>2017-10-02</td>\n",
       "      <td>None</td>\n",
       "      <td>68617ca6246f4fbc85e91a2a49552598</td>\n",
       "      <td>NaN</td>\n",
       "    </tr>\n",
       "    <tr>\n",
       "      <th>9</th>\n",
       "      <td>118</td>\n",
       "      <td>2016-11-22</td>\n",
       "      <td>None</td>\n",
       "      <td>8974fc5686fe429db53ddde067b88302</td>\n",
       "      <td>NaN</td>\n",
       "    </tr>\n",
       "    <tr>\n",
       "      <th>10</th>\n",
       "      <td>118</td>\n",
       "      <td>2017-08-24</td>\n",
       "      <td>None</td>\n",
       "      <td>c4863c7985cf408faee930f111475da3</td>\n",
       "      <td>NaN</td>\n",
       "    </tr>\n",
       "    <tr>\n",
       "      <th>11</th>\n",
       "      <td>118</td>\n",
       "      <td>2015-09-19</td>\n",
       "      <td>None</td>\n",
       "      <td>148adfcaa27d485b82f323aaaad036bd</td>\n",
       "      <td>NaN</td>\n",
       "    </tr>\n",
       "    <tr>\n",
       "      <th>17</th>\n",
       "      <td>118</td>\n",
       "      <td>2017-08-01</td>\n",
       "      <td>None</td>\n",
       "      <td>744d603ef08c4f33af5a61c8c7628d1c</td>\n",
       "      <td>NaN</td>\n",
       "    </tr>\n",
       "    <tr>\n",
       "      <th>23</th>\n",
       "      <td>118</td>\n",
       "      <td>2017-09-07</td>\n",
       "      <td>None</td>\n",
       "      <td>2b826eba31074a059d63b0ae8f50b7d5</td>\n",
       "      <td>NaN</td>\n",
       "    </tr>\n",
       "  </tbody>\n",
       "</table>\n",
       "</div>"
      ],
      "text/plain": [
       "    age became_member_on gender                                id  income\n",
       "0   118       2017-02-12   None  68be06ca386d4c31939f3a4f0e3dd783     NaN\n",
       "2   118       2018-07-12   None  38fe809add3b4fcf9315a9694bb96ff5     NaN\n",
       "4   118       2017-08-04   None  a03223e636434f42ac4c3df47e8bac43     NaN\n",
       "6   118       2017-09-25   None  8ec6ce2a7e7949b1bf142def7d0e0586     NaN\n",
       "7   118       2017-10-02   None  68617ca6246f4fbc85e91a2a49552598     NaN\n",
       "9   118       2016-11-22   None  8974fc5686fe429db53ddde067b88302     NaN\n",
       "10  118       2017-08-24   None  c4863c7985cf408faee930f111475da3     NaN\n",
       "11  118       2015-09-19   None  148adfcaa27d485b82f323aaaad036bd     NaN\n",
       "17  118       2017-08-01   None  744d603ef08c4f33af5a61c8c7628d1c     NaN\n",
       "23  118       2017-09-07   None  2b826eba31074a059d63b0ae8f50b7d5     NaN"
      ]
     },
     "execution_count": 18,
     "metadata": {},
     "output_type": "execute_result"
    }
   ],
   "source": [
    "profile_None_gender = profile.loc[profile['gender'].isna(),:]\n",
    "profile_None_gender.head(10)"
   ]
  },
  {
   "cell_type": "code",
   "execution_count": 19,
   "metadata": {},
   "outputs": [
    {
     "name": "stdout",
     "output_type": "stream",
     "text": [
      "Unique values of income for users with None gender:  [nan]\n"
     ]
    }
   ],
   "source": [
    "print(\"Unique values of income for users with None gender: \", profile_None_gender['income'].unique())"
   ]
  },
  {
   "cell_type": "markdown",
   "metadata": {},
   "source": [
    "We can see that also the income has only nan values when the gender is not set, what I have named a default profile. We still don't know if the users here are uninteresting. After investigating the transactions data by itself we should investigate if the users with a default user profile have a significant portion of the transactions. If it has it may be interesting to treat all default profiles as one group to see if there are any difference between the default profiles and the users that has updated their profile with information. \n",
    "\n",
    "However, for now I will remove any user from the profile data to look at the remaining data, and if there are missing values left after this removal. "
   ]
  },
  {
   "cell_type": "code",
   "execution_count": 20,
   "metadata": {},
   "outputs": [
    {
     "name": "stdout",
     "output_type": "stream",
     "text": [
      "There are 2175 users with a default profile, meaning no gender, no income and age 118\n",
      "That is 12.79% of the total users registered\n"
     ]
    }
   ],
   "source": [
    "print(\"There are {} users with a default profile, meaning no gender, no income and age 118\".format(profile_None_gender.shape[0]))\n",
    "print(\"That is {:.2f}% of the total users registered\".format(100 * (profile_None_gender.shape[0] / profile.shape[0])))"
   ]
  },
  {
   "cell_type": "markdown",
   "metadata": {},
   "source": [
    "### profile data without default profiles"
   ]
  },
  {
   "cell_type": "code",
   "execution_count": 21,
   "metadata": {},
   "outputs": [
    {
     "data": {
      "text/html": [
       "<div>\n",
       "<style scoped>\n",
       "    .dataframe tbody tr th:only-of-type {\n",
       "        vertical-align: middle;\n",
       "    }\n",
       "\n",
       "    .dataframe tbody tr th {\n",
       "        vertical-align: top;\n",
       "    }\n",
       "\n",
       "    .dataframe thead th {\n",
       "        text-align: right;\n",
       "    }\n",
       "</style>\n",
       "<table border=\"1\" class=\"dataframe\">\n",
       "  <thead>\n",
       "    <tr style=\"text-align: right;\">\n",
       "      <th></th>\n",
       "      <th>age</th>\n",
       "      <th>became_member_on</th>\n",
       "      <th>gender</th>\n",
       "      <th>id</th>\n",
       "      <th>income</th>\n",
       "    </tr>\n",
       "  </thead>\n",
       "  <tbody>\n",
       "    <tr>\n",
       "      <th>1</th>\n",
       "      <td>55</td>\n",
       "      <td>2017-07-15</td>\n",
       "      <td>F</td>\n",
       "      <td>0610b486422d4921ae7d2bf64640c50b</td>\n",
       "      <td>112000.0</td>\n",
       "    </tr>\n",
       "    <tr>\n",
       "      <th>3</th>\n",
       "      <td>75</td>\n",
       "      <td>2017-05-09</td>\n",
       "      <td>F</td>\n",
       "      <td>78afa995795e4d85b5d9ceeca43f5fef</td>\n",
       "      <td>100000.0</td>\n",
       "    </tr>\n",
       "    <tr>\n",
       "      <th>5</th>\n",
       "      <td>68</td>\n",
       "      <td>2018-04-26</td>\n",
       "      <td>M</td>\n",
       "      <td>e2127556f4f64592b11af22de27a7932</td>\n",
       "      <td>70000.0</td>\n",
       "    </tr>\n",
       "    <tr>\n",
       "      <th>8</th>\n",
       "      <td>65</td>\n",
       "      <td>2018-02-09</td>\n",
       "      <td>M</td>\n",
       "      <td>389bc3fa690240e798340f5a15918d5c</td>\n",
       "      <td>53000.0</td>\n",
       "    </tr>\n",
       "    <tr>\n",
       "      <th>12</th>\n",
       "      <td>58</td>\n",
       "      <td>2017-11-11</td>\n",
       "      <td>M</td>\n",
       "      <td>2eeac8d8feae4a8cad5a6af0499a211d</td>\n",
       "      <td>51000.0</td>\n",
       "    </tr>\n",
       "  </tbody>\n",
       "</table>\n",
       "</div>"
      ],
      "text/plain": [
       "    age became_member_on gender                                id    income\n",
       "1    55       2017-07-15      F  0610b486422d4921ae7d2bf64640c50b  112000.0\n",
       "3    75       2017-05-09      F  78afa995795e4d85b5d9ceeca43f5fef  100000.0\n",
       "5    68       2018-04-26      M  e2127556f4f64592b11af22de27a7932   70000.0\n",
       "8    65       2018-02-09      M  389bc3fa690240e798340f5a15918d5c   53000.0\n",
       "12   58       2017-11-11      M  2eeac8d8feae4a8cad5a6af0499a211d   51000.0"
      ]
     },
     "execution_count": 21,
     "metadata": {},
     "output_type": "execute_result"
    }
   ],
   "source": [
    "profile_no_default = profile.loc[~profile['gender'].isna(),:]\n",
    "profile_no_default.head()"
   ]
  },
  {
   "cell_type": "markdown",
   "metadata": {},
   "source": [
    "First lets check if there are any missing values left in any profile"
   ]
  },
  {
   "cell_type": "code",
   "execution_count": 22,
   "metadata": {},
   "outputs": [
    {
     "name": "stdout",
     "output_type": "stream",
     "text": [
      "Number of missing income values:  0\n",
      "Number of missing date values:  0\n",
      "Number of missing gender values:  0\n",
      "Number of age values equal to 118:  0\n",
      "Number of missing id values:  0\n"
     ]
    }
   ],
   "source": [
    "print(\"Number of missing income values: \", profile_no_default['income'].isna().sum())\n",
    "print(\"Number of missing date values: \", profile_no_default['became_member_on'].isna().sum())\n",
    "print(\"Number of missing gender values: \", profile_no_default['gender'].isna().sum())\n",
    "print(\"Number of age values equal to 118: \", (profile_no_default['age'] == 118).sum())\n",
    "print(\"Number of missing id values: \", profile_no_default['id'].isna().sum())\n"
   ]
  },
  {
   "cell_type": "markdown",
   "metadata": {},
   "source": [
    "Great, no missing values in the rest of the user data. However, for the sake of clarity, lets look again at distributions etc. to see if there are any artifacts remaining"
   ]
  },
  {
   "cell_type": "markdown",
   "metadata": {},
   "source": [
    "#### Registration date distributions"
   ]
  },
  {
   "cell_type": "code",
   "execution_count": 23,
   "metadata": {},
   "outputs": [
    {
     "data": {
      "image/png": "[encoded data removed]",
      "text/plain": [
       "<Figure size 720x576 with 1 Axes>"
      ]
     },
     "metadata": {
      "needs_background": "light"
     },
     "output_type": "display_data"
    }
   ],
   "source": [
    "#Distribution of registration by month for all users\n",
    "member_grouped_month = profile.set_index('became_member_on').groupby(pd.Grouper(freq='Q')).count()\n",
    "month_bins = member_grouped_month.index.strftime(\"%Y-%m\")\n",
    "datefmt = mdates.DateFormatter(\"%Y-%M\")\n",
    "fig,ax = plt.subplots(1,1,figsize=(10,8));\n",
    "fig.autofmt_xdate(rotation=45)\n",
    "sns.barplot(x=month_bins, y=member_grouped_month['age'], ax=ax);\n",
    "fig.suptitle('Users registered quarterly');\n",
    "ax.set_xlabel('Quarter end date');\n",
    "ax.set_ylabel('Number of registered users by quarter');"
   ]
  },
  {
   "cell_type": "code",
   "execution_count": 24,
   "metadata": {},
   "outputs": [
    {
     "data": {
      "image/png": "[encoded data removed]",
      "text/plain": [
       "<Figure size 720x576 with 1 Axes>"
      ]
     },
     "metadata": {
      "needs_background": "light"
     },
     "output_type": "display_data"
    }
   ],
   "source": [
    "#Distribution of registration by month for non-default user profiles\n",
    "member_grouped_month = profile_no_default.set_index('became_member_on').groupby(pd.Grouper(freq='Q')).count()\n",
    "month_bins = member_grouped_month.index.strftime(\"%Y-%m\")\n",
    "datefmt = mdates.DateFormatter(\"%Y-%M\")\n",
    "fig,ax = plt.subplots(1,1,figsize=(10,8));\n",
    "fig.autofmt_xdate(rotation=45)\n",
    "sns.barplot(x=month_bins, y=member_grouped_month['age'], ax=ax);\n",
    "fig.suptitle('Users registered quarterly');\n",
    "ax.set_xlabel('Quarter end date');\n",
    "ax.set_ylabel('Number of registered users by quarter');\n"
   ]
  },
  {
   "cell_type": "code",
   "execution_count": 25,
   "metadata": {},
   "outputs": [
    {
     "data": {
      "image/png": "[encoded data removed]",
      "text/plain": [
       "<Figure size 720x576 with 1 Axes>"
      ]
     },
     "metadata": {
      "needs_background": "light"
     },
     "output_type": "display_data"
    }
   ],
   "source": [
    "#Distribution of registration by month for default user profiles\n",
    "member_grouped_month = profile_None_gender.set_index('became_member_on').groupby(pd.Grouper(freq='Q')).count()\n",
    "month_bins = member_grouped_month.index.strftime(\"%Y-%m\")\n",
    "datefmt = mdates.DateFormatter(\"%Y-%M\")\n",
    "fig,ax = plt.subplots(1,1,figsize=(10,8));\n",
    "fig.autofmt_xdate(rotation=45)\n",
    "sns.barplot(x=month_bins, y=member_grouped_month['age'], ax=ax);\n",
    "fig.suptitle('Users registered quarterly');\n",
    "ax.set_xlabel('Quarter end date');\n",
    "ax.set_ylabel('Number of registered users by quarter');"
   ]
  },
  {
   "cell_type": "markdown",
   "metadata": {},
   "source": [
    "The distributions for member registration date does not seem to change significantly if we remove the default profiles. We can see that the default user registrations are primarily from third quarter in 2015 and onward. However, that's also when the general userbase picked up. We can look at the %of defualt users and its distribution as well."
   ]
  },
  {
   "cell_type": "code",
   "execution_count": 26,
   "metadata": {},
   "outputs": [
    {
     "data": {
      "image/png": "[encoded data removed]",
      "text/plain": [
       "<Figure size 720x576 with 1 Axes>"
      ]
     },
     "metadata": {
      "needs_background": "light"
     },
     "output_type": "display_data"
    }
   ],
   "source": [
    "member_grouped_month_default = profile_None_gender.set_index('became_member_on').groupby(pd.Grouper(freq='Q')).count()\n",
    "member_grouped_month_all = profile.set_index('became_member_on').groupby(pd.Grouper(freq='Q')).count()\n",
    "member_grouped_default_pct = 100 * member_grouped_month_default/member_grouped_month_all\n",
    "\n",
    "#Distribution of registration by month for default user profiles\n",
    "month_bins = member_grouped_default_pct.index.strftime(\"%Y-%m\")\n",
    "datefmt = mdates.DateFormatter(\"%Y-%M\")\n",
    "fig,ax = plt.subplots(1,1,figsize=(10,8));\n",
    "fig.autofmt_xdate(rotation=45)\n",
    "sns.barplot(x=month_bins, y=member_grouped_default_pct['age'], ax=ax);\n",
    "fig.suptitle('% default profiles registered quarterly');\n",
    "ax.set_xlabel('Quarter end date');\n",
    "ax.set_ylabel('%  default profiles by quarter');"
   ]
  },
  {
   "cell_type": "markdown",
   "metadata": {},
   "source": [
    "We see that there is indeed a higher portion of default profiles after 3rd quarter of 2015. However, it may not be important as it seems to be quite evenly distributed before and after that quarter"
   ]
  },
  {
   "cell_type": "markdown",
   "metadata": {},
   "source": [
    "#### Gender distribution"
   ]
  },
  {
   "cell_type": "markdown",
   "metadata": {},
   "source": [
    "Below we see the gender distribution for registered genders. 57.2% of the users are male, 41.3% are female and 1.4% are Other. \n",
    "\n",
    "The low ratio of Other gender could make it difficult to say much about this usergroup, unless they have very strong tendencies. "
   ]
  },
  {
   "cell_type": "code",
   "execution_count": 27,
   "metadata": {},
   "outputs": [
    {
     "data": {
      "image/png": "[encoded data removed]",
      "text/plain": [
       "<Figure size 432x288 with 1 Axes>"
      ]
     },
     "metadata": {},
     "output_type": "display_data"
    }
   ],
   "source": [
    "#gender distribution of remaining users\n",
    "sums = profile_no_default.groupby('gender').count()\n",
    "plt.axis('equal')\n",
    "plt.pie(sums['age'].values, labels=sums.index, autopct='%.1f%%');"
   ]
  },
  {
   "cell_type": "markdown",
   "metadata": {},
   "source": [
    "#### Income distribution"
   ]
  },
  {
   "cell_type": "code",
   "execution_count": 28,
   "metadata": {},
   "outputs": [
    {
     "name": "stderr",
     "output_type": "stream",
     "text": [
      "C:\\Anaconda3\\envs\\py36\\lib\\site-packages\\pandas\\core\\indexing.py:362: SettingWithCopyWarning: \n",
      "A value is trying to be set on a copy of a slice from a DataFrame.\n",
      "Try using .loc[row_indexer,col_indexer] = value instead\n",
      "\n",
      "See the caveats in the documentation: http://pandas.pydata.org/pandas-docs/stable/indexing.html#indexing-view-versus-copy\n",
      "  self.obj[key] = _infer_fill_value(value)\n",
      "C:\\Anaconda3\\envs\\py36\\lib\\site-packages\\pandas\\core\\indexing.py:543: SettingWithCopyWarning: \n",
      "A value is trying to be set on a copy of a slice from a DataFrame.\n",
      "Try using .loc[row_indexer,col_indexer] = value instead\n",
      "\n",
      "See the caveats in the documentation: http://pandas.pydata.org/pandas-docs/stable/indexing.html#indexing-view-versus-copy\n",
      "  self.obj[item] = s\n"
     ]
    },
    {
     "data": {
      "text/html": [
       "<div>\n",
       "<style scoped>\n",
       "    .dataframe tbody tr th:only-of-type {\n",
       "        vertical-align: middle;\n",
       "    }\n",
       "\n",
       "    .dataframe tbody tr th {\n",
       "        vertical-align: top;\n",
       "    }\n",
       "\n",
       "    .dataframe thead th {\n",
       "        text-align: right;\n",
       "    }\n",
       "</style>\n",
       "<table border=\"1\" class=\"dataframe\">\n",
       "  <thead>\n",
       "    <tr style=\"text-align: right;\">\n",
       "      <th></th>\n",
       "      <th>age</th>\n",
       "      <th>became_member_on</th>\n",
       "      <th>gender</th>\n",
       "      <th>id</th>\n",
       "      <th>income</th>\n",
       "      <th>income_bins</th>\n",
       "    </tr>\n",
       "  </thead>\n",
       "  <tbody>\n",
       "    <tr>\n",
       "      <th>1</th>\n",
       "      <td>55</td>\n",
       "      <td>2017-07-15</td>\n",
       "      <td>F</td>\n",
       "      <td>0610b486422d4921ae7d2bf64640c50b</td>\n",
       "      <td>112000.0</td>\n",
       "      <td>(111000.0, 115500.0]</td>\n",
       "    </tr>\n",
       "    <tr>\n",
       "      <th>3</th>\n",
       "      <td>75</td>\n",
       "      <td>2017-05-09</td>\n",
       "      <td>F</td>\n",
       "      <td>78afa995795e4d85b5d9ceeca43f5fef</td>\n",
       "      <td>100000.0</td>\n",
       "      <td>(97500.0, 102000.0]</td>\n",
       "    </tr>\n",
       "    <tr>\n",
       "      <th>5</th>\n",
       "      <td>68</td>\n",
       "      <td>2018-04-26</td>\n",
       "      <td>M</td>\n",
       "      <td>e2127556f4f64592b11af22de27a7932</td>\n",
       "      <td>70000.0</td>\n",
       "      <td>(66000.0, 70500.0]</td>\n",
       "    </tr>\n",
       "    <tr>\n",
       "      <th>8</th>\n",
       "      <td>65</td>\n",
       "      <td>2018-02-09</td>\n",
       "      <td>M</td>\n",
       "      <td>389bc3fa690240e798340f5a15918d5c</td>\n",
       "      <td>53000.0</td>\n",
       "      <td>(52500.0, 57000.0]</td>\n",
       "    </tr>\n",
       "    <tr>\n",
       "      <th>12</th>\n",
       "      <td>58</td>\n",
       "      <td>2017-11-11</td>\n",
       "      <td>M</td>\n",
       "      <td>2eeac8d8feae4a8cad5a6af0499a211d</td>\n",
       "      <td>51000.0</td>\n",
       "      <td>(48000.0, 52500.0]</td>\n",
       "    </tr>\n",
       "  </tbody>\n",
       "</table>\n",
       "</div>"
      ],
      "text/plain": [
       "    age became_member_on gender                                id    income  \\\n",
       "1    55       2017-07-15      F  0610b486422d4921ae7d2bf64640c50b  112000.0   \n",
       "3    75       2017-05-09      F  78afa995795e4d85b5d9ceeca43f5fef  100000.0   \n",
       "5    68       2018-04-26      M  e2127556f4f64592b11af22de27a7932   70000.0   \n",
       "8    65       2018-02-09      M  389bc3fa690240e798340f5a15918d5c   53000.0   \n",
       "12   58       2017-11-11      M  2eeac8d8feae4a8cad5a6af0499a211d   51000.0   \n",
       "\n",
       "             income_bins  \n",
       "1   (111000.0, 115500.0]  \n",
       "3    (97500.0, 102000.0]  \n",
       "5     (66000.0, 70500.0]  \n",
       "8     (52500.0, 57000.0]  \n",
       "12    (48000.0, 52500.0]  "
      ]
     },
     "execution_count": 28,
     "metadata": {},
     "output_type": "execute_result"
    }
   ],
   "source": [
    "bins = pd.cut(profile_no_default.loc[:,'income'], 20)\n",
    "profile_no_default.loc[:,'income_bins'] = bins\n",
    "profile_no_default.head()"
   ]
  },
  {
   "cell_type": "code",
   "execution_count": 29,
   "metadata": {},
   "outputs": [
    {
     "data": {
      "image/png": "[encoded data removed]",
      "text/plain": [
       "<Figure size 432x288 with 1 Axes>"
      ]
     },
     "metadata": {
      "needs_background": "light"
     },
     "output_type": "display_data"
    }
   ],
   "source": [
    "profiles_per_income = profile_no_default.groupby(by='income_bins').count()\n",
    "profiles_per_income_pct = 100* profiles_per_income/profiles_per_income.sum(axis=0)\n",
    "ax = sns.barplot(x=profiles_per_income_pct.index, y=profiles_per_income_pct['age'])\n",
    "ax.xaxis.set_tick_params(rotation=90)\n",
    "ax.set_ylabel('% of profiles');"
   ]
  },
  {
   "cell_type": "code",
   "execution_count": 30,
   "metadata": {},
   "outputs": [],
   "source": [
    "profiles_per_income = profile_no_default.groupby(by=['gender', 'income_bins']).count()\n",
    "profiles_per_income_male = profiles_per_income.loc['M']\n",
    "profiles_per_income_female = profiles_per_income.loc['F']\n",
    "profiles_per_income_other = profiles_per_income.loc['O']\n"
   ]
  },
  {
   "cell_type": "code",
   "execution_count": 31,
   "metadata": {},
   "outputs": [
    {
     "data": {
      "image/png": "[encoded data removed]",
      "text/plain": [
       "<Figure size 432x288 with 1 Axes>"
      ]
     },
     "metadata": {
      "needs_background": "light"
     },
     "output_type": "display_data"
    }
   ],
   "source": [
    "profiles_per_income_pct = 100* profiles_per_income_male/profiles_per_income_male.sum(axis=0)\n",
    "ax = sns.barplot(x=profiles_per_income_pct.index, y=profiles_per_income_pct['age'])\n",
    "ax.xaxis.set_tick_params(rotation=90)\n",
    "ax.set_ylabel('% of male profiles');"
   ]
  },
  {
   "cell_type": "code",
   "execution_count": 32,
   "metadata": {},
   "outputs": [
    {
     "data": {
      "image/png": "[encoded data removed]",
      "text/plain": [
       "<Figure size 432x288 with 1 Axes>"
      ]
     },
     "metadata": {
      "needs_background": "light"
     },
     "output_type": "display_data"
    }
   ],
   "source": [
    "profiles_per_income_pct = 100* profiles_per_income_female/profiles_per_income_female.sum(axis=0)\n",
    "ax = sns.barplot(x=profiles_per_income_pct.index, y=profiles_per_income_pct['age'])\n",
    "ax.xaxis.set_tick_params(rotation=90)\n",
    "ax.set_ylabel('% of female profiles');"
   ]
  },
  {
   "cell_type": "code",
   "execution_count": 33,
   "metadata": {},
   "outputs": [
    {
     "data": {
      "image/png": "[encoded data removed]",
      "text/plain": [
       "<Figure size 432x288 with 1 Axes>"
      ]
     },
     "metadata": {
      "needs_background": "light"
     },
     "output_type": "display_data"
    }
   ],
   "source": [
    "profiles_per_income_pct = 100* profiles_per_income_other/profiles_per_income_other.sum(axis=0)\n",
    "ax = sns.barplot(x=profiles_per_income_pct.index, y=profiles_per_income_pct['age'])\n",
    "ax.xaxis.set_tick_params(rotation=90)\n",
    "ax.set_ylabel('% of other profiles');"
   ]
  },
  {
   "cell_type": "markdown",
   "metadata": {},
   "source": [
    "We can see from the above distribution that the income is quite evenly spread out between users up to 75kUSD where the number of users in each bin start to taper of. There are quite few in each bin from 102kUSD and upwards. However, still almost 200 users. \n",
    "\n",
    "Also, from the gender specific distributions we see that the females are actually more evenly distributed than the two others, and have relatively larger ratio of high income users. The other gender has no user with income above 102kUSD. "
   ]
  },
  {
   "cell_type": "markdown",
   "metadata": {},
   "source": [
    "### Transcript data"
   ]
  },
  {
   "cell_type": "markdown",
   "metadata": {},
   "source": [
    "Finally, lets dig into the transcript data. "
   ]
  },
  {
   "cell_type": "code",
   "execution_count": 34,
   "metadata": {},
   "outputs": [
    {
     "data": {
      "text/html": [
       "<div>\n",
       "<style scoped>\n",
       "    .dataframe tbody tr th:only-of-type {\n",
       "        vertical-align: middle;\n",
       "    }\n",
       "\n",
       "    .dataframe tbody tr th {\n",
       "        vertical-align: top;\n",
       "    }\n",
       "\n",
       "    .dataframe thead th {\n",
       "        text-align: right;\n",
       "    }\n",
       "</style>\n",
       "<table border=\"1\" class=\"dataframe\">\n",
       "  <thead>\n",
       "    <tr style=\"text-align: right;\">\n",
       "      <th></th>\n",
       "      <th>event</th>\n",
       "      <th>person</th>\n",
       "      <th>time</th>\n",
       "      <th>value</th>\n",
       "    </tr>\n",
       "  </thead>\n",
       "  <tbody>\n",
       "    <tr>\n",
       "      <th>0</th>\n",
       "      <td>offer received</td>\n",
       "      <td>78afa995795e4d85b5d9ceeca43f5fef</td>\n",
       "      <td>0</td>\n",
       "      <td>{'offer id': '9b98b8c7a33c4b65b9aebfe6a799e6d9'}</td>\n",
       "    </tr>\n",
       "    <tr>\n",
       "      <th>1</th>\n",
       "      <td>offer received</td>\n",
       "      <td>a03223e636434f42ac4c3df47e8bac43</td>\n",
       "      <td>0</td>\n",
       "      <td>{'offer id': '0b1e1539f2cc45b7b9fa7c272da2e1d7'}</td>\n",
       "    </tr>\n",
       "    <tr>\n",
       "      <th>2</th>\n",
       "      <td>offer received</td>\n",
       "      <td>e2127556f4f64592b11af22de27a7932</td>\n",
       "      <td>0</td>\n",
       "      <td>{'offer id': '2906b810c7d4411798c6938adc9daaa5'}</td>\n",
       "    </tr>\n",
       "    <tr>\n",
       "      <th>3</th>\n",
       "      <td>offer received</td>\n",
       "      <td>8ec6ce2a7e7949b1bf142def7d0e0586</td>\n",
       "      <td>0</td>\n",
       "      <td>{'offer id': 'fafdcd668e3743c1bb461111dcafc2a4'}</td>\n",
       "    </tr>\n",
       "    <tr>\n",
       "      <th>4</th>\n",
       "      <td>offer received</td>\n",
       "      <td>68617ca6246f4fbc85e91a2a49552598</td>\n",
       "      <td>0</td>\n",
       "      <td>{'offer id': '4d5c57ea9a6940dd891ad53e9dbe8da0'}</td>\n",
       "    </tr>\n",
       "  </tbody>\n",
       "</table>\n",
       "</div>"
      ],
      "text/plain": [
       "            event                            person  time  \\\n",
       "0  offer received  78afa995795e4d85b5d9ceeca43f5fef     0   \n",
       "1  offer received  a03223e636434f42ac4c3df47e8bac43     0   \n",
       "2  offer received  e2127556f4f64592b11af22de27a7932     0   \n",
       "3  offer received  8ec6ce2a7e7949b1bf142def7d0e0586     0   \n",
       "4  offer received  68617ca6246f4fbc85e91a2a49552598     0   \n",
       "\n",
       "                                              value  \n",
       "0  {'offer id': '9b98b8c7a33c4b65b9aebfe6a799e6d9'}  \n",
       "1  {'offer id': '0b1e1539f2cc45b7b9fa7c272da2e1d7'}  \n",
       "2  {'offer id': '2906b810c7d4411798c6938adc9daaa5'}  \n",
       "3  {'offer id': 'fafdcd668e3743c1bb461111dcafc2a4'}  \n",
       "4  {'offer id': '4d5c57ea9a6940dd891ad53e9dbe8da0'}  "
      ]
     },
     "execution_count": 34,
     "metadata": {},
     "output_type": "execute_result"
    }
   ],
   "source": [
    "transcript.head()"
   ]
  },
  {
   "cell_type": "markdown",
   "metadata": {},
   "source": [
    "Initially we see that the event gives the type of interaction, person is the user_id, time is the hours since start of test, and value has a dictionary of key value pairs.\n",
    "\n",
    "Any missing values?"
   ]
  },
  {
   "cell_type": "code",
   "execution_count": 35,
   "metadata": {},
   "outputs": [
    {
     "data": {
      "text/plain": [
       "event     0\n",
       "person    0\n",
       "time      0\n",
       "value     0\n",
       "dtype: int64"
      ]
     },
     "execution_count": 35,
     "metadata": {},
     "output_type": "execute_result"
    }
   ],
   "source": [
    "transcript.isna().sum(axis=0)"
   ]
  },
  {
   "cell_type": "code",
   "execution_count": 36,
   "metadata": {},
   "outputs": [
    {
     "name": "stdout",
     "output_type": "stream",
     "text": [
      "unique event values:  ['offer received' 'offer viewed' 'transaction' 'offer completed']\n"
     ]
    },
    {
     "data": {
      "text/html": [
       "<div>\n",
       "<style scoped>\n",
       "    .dataframe tbody tr th:only-of-type {\n",
       "        vertical-align: middle;\n",
       "    }\n",
       "\n",
       "    .dataframe tbody tr th {\n",
       "        vertical-align: top;\n",
       "    }\n",
       "\n",
       "    .dataframe thead th {\n",
       "        text-align: right;\n",
       "    }\n",
       "</style>\n",
       "<table border=\"1\" class=\"dataframe\">\n",
       "  <thead>\n",
       "    <tr style=\"text-align: right;\">\n",
       "      <th></th>\n",
       "      <th>person</th>\n",
       "      <th>time</th>\n",
       "      <th>value</th>\n",
       "    </tr>\n",
       "    <tr>\n",
       "      <th>event</th>\n",
       "      <th></th>\n",
       "      <th></th>\n",
       "      <th></th>\n",
       "    </tr>\n",
       "  </thead>\n",
       "  <tbody>\n",
       "    <tr>\n",
       "      <th>offer completed</th>\n",
       "      <td>33579</td>\n",
       "      <td>33579</td>\n",
       "      <td>33579</td>\n",
       "    </tr>\n",
       "    <tr>\n",
       "      <th>offer received</th>\n",
       "      <td>76277</td>\n",
       "      <td>76277</td>\n",
       "      <td>76277</td>\n",
       "    </tr>\n",
       "    <tr>\n",
       "      <th>offer viewed</th>\n",
       "      <td>57725</td>\n",
       "      <td>57725</td>\n",
       "      <td>57725</td>\n",
       "    </tr>\n",
       "    <tr>\n",
       "      <th>transaction</th>\n",
       "      <td>138953</td>\n",
       "      <td>138953</td>\n",
       "      <td>138953</td>\n",
       "    </tr>\n",
       "  </tbody>\n",
       "</table>\n",
       "</div>"
      ],
      "text/plain": [
       "                 person    time   value\n",
       "event                                  \n",
       "offer completed   33579   33579   33579\n",
       "offer received    76277   76277   76277\n",
       "offer viewed      57725   57725   57725\n",
       "transaction      138953  138953  138953"
      ]
     },
     "execution_count": 36,
     "metadata": {},
     "output_type": "execute_result"
    }
   ],
   "source": [
    "print(\"unique event values: \", transcript['event'].unique())\n",
    "transcript.groupby('event').count()"
   ]
  },
  {
   "cell_type": "code",
   "execution_count": 37,
   "metadata": {},
   "outputs": [
    {
     "data": {
      "text/plain": [
       "True"
      ]
     },
     "execution_count": 37,
     "metadata": {},
     "output_type": "execute_result"
    }
   ],
   "source": [
    "#Check if all users in profile is in transcript. If not flag the users that are not present in transcript\n",
    "users_in_transcript = transcript['person'].sort_values().unique()\n",
    "users_with_profile = profile['id'].sort_values()\n",
    "np.all(users_in_transcript == users_with_profile)"
   ]
  },
  {
   "cell_type": "markdown",
   "metadata": {},
   "source": [
    "We see that there is no users in the profile data that is not represented in some way in the transcript data. Thus, we'll not do anything more for now. \n",
    "\n",
    "Also, There is no missing values, luckily. And we can also see that there are quite alot of offers not being viewed, and even fewer completed. However,we no nothing about how many offers that are viewed are completed and how many are not etc. \n",
    "\n",
    "We will investigate this a bit later, but first lets look at the value column and see if we can split it in some simle way into type and value. \n",
    "\n",
    "Is there always one key,item pair?"
   ]
  },
  {
   "cell_type": "code",
   "execution_count": 38,
   "metadata": {},
   "outputs": [
    {
     "data": {
      "text/plain": [
       "array([1, 2], dtype=int64)"
      ]
     },
     "execution_count": 38,
     "metadata": {},
     "output_type": "execute_result"
    }
   ],
   "source": [
    "transcript['value'].apply(lambda d: len(d.keys())).unique()"
   ]
  },
  {
   "cell_type": "markdown",
   "metadata": {},
   "source": [
    "No, some entries actually has two keys. In what cases does that happen?"
   ]
  },
  {
   "cell_type": "code",
   "execution_count": 39,
   "metadata": {},
   "outputs": [
    {
     "name": "stdout",
     "output_type": "stream",
     "text": [
      "Events with more than 1 value key:  ['offer completed']\n"
     ]
    },
    {
     "data": {
      "text/html": [
       "<div>\n",
       "<style scoped>\n",
       "    .dataframe tbody tr th:only-of-type {\n",
       "        vertical-align: middle;\n",
       "    }\n",
       "\n",
       "    .dataframe tbody tr th {\n",
       "        vertical-align: top;\n",
       "    }\n",
       "\n",
       "    .dataframe thead th {\n",
       "        text-align: right;\n",
       "    }\n",
       "</style>\n",
       "<table border=\"1\" class=\"dataframe\">\n",
       "  <thead>\n",
       "    <tr style=\"text-align: right;\">\n",
       "      <th></th>\n",
       "      <th>event</th>\n",
       "      <th>person</th>\n",
       "      <th>time</th>\n",
       "      <th>value</th>\n",
       "      <th>value_keys</th>\n",
       "      <th>num_value_keys</th>\n",
       "    </tr>\n",
       "  </thead>\n",
       "  <tbody>\n",
       "    <tr>\n",
       "      <th>12658</th>\n",
       "      <td>offer completed</td>\n",
       "      <td>9fa9ae8f57894cc9a3b8a9bbe0fc1b2f</td>\n",
       "      <td>0</td>\n",
       "      <td>{'offer_id': '2906b810c7d4411798c6938adc9daaa5...</td>\n",
       "      <td>[offer_id, reward]</td>\n",
       "      <td>2</td>\n",
       "    </tr>\n",
       "  </tbody>\n",
       "</table>\n",
       "</div>"
      ],
      "text/plain": [
       "                 event                            person  time  \\\n",
       "12658  offer completed  9fa9ae8f57894cc9a3b8a9bbe0fc1b2f     0   \n",
       "\n",
       "                                                   value          value_keys  \\\n",
       "12658  {'offer_id': '2906b810c7d4411798c6938adc9daaa5...  [offer_id, reward]   \n",
       "\n",
       "       num_value_keys  \n",
       "12658               2  "
      ]
     },
     "execution_count": 39,
     "metadata": {},
     "output_type": "execute_result"
    }
   ],
   "source": [
    "transcript['value_keys'] = transcript['value'].apply(lambda d: list(d.keys()))\n",
    "transcript['num_value_keys'] = transcript['value'].apply(lambda d: len(d.keys()))\n",
    "print(\"Events with more than 1 value key: \", transcript.loc[transcript['num_value_keys']>1,'event'].unique())\n",
    "transcript.loc[transcript['num_value_keys']>1].iloc[:1,:]"
   ]
  },
  {
   "cell_type": "markdown",
   "metadata": {},
   "source": [
    "We see that there is only the offer completed event that has more than 1 value key and that the keys are offer_id and reward. The reward is the amount released when the offer is completed. \n",
    "\n",
    "What other keys are there? And are there any entries missing keys?"
   ]
  },
  {
   "cell_type": "code",
   "execution_count": 40,
   "metadata": {},
   "outputs": [
    {
     "data": {
      "text/plain": [
       "{'amount', 'offer id', 'offer_id', 'reward'}"
      ]
     },
     "execution_count": 40,
     "metadata": {},
     "output_type": "execute_result"
    }
   ],
   "source": [
    "keys = []\n",
    "transcript.loc[:,'value_keys'].apply(lambda l: keys.extend(l))\n",
    "set(keys)"
   ]
  },
  {
   "cell_type": "code",
   "execution_count": 41,
   "metadata": {},
   "outputs": [
    {
     "data": {
      "text/html": [
       "<div>\n",
       "<style scoped>\n",
       "    .dataframe tbody tr th:only-of-type {\n",
       "        vertical-align: middle;\n",
       "    }\n",
       "\n",
       "    .dataframe tbody tr th {\n",
       "        vertical-align: top;\n",
       "    }\n",
       "\n",
       "    .dataframe thead th {\n",
       "        text-align: right;\n",
       "    }\n",
       "</style>\n",
       "<table border=\"1\" class=\"dataframe\">\n",
       "  <thead>\n",
       "    <tr style=\"text-align: right;\">\n",
       "      <th></th>\n",
       "      <th>event</th>\n",
       "      <th>person</th>\n",
       "      <th>time</th>\n",
       "      <th>value</th>\n",
       "      <th>value_keys</th>\n",
       "      <th>num_value_keys</th>\n",
       "    </tr>\n",
       "  </thead>\n",
       "  <tbody>\n",
       "  </tbody>\n",
       "</table>\n",
       "</div>"
      ],
      "text/plain": [
       "Empty DataFrame\n",
       "Columns: [event, person, time, value, value_keys, num_value_keys]\n",
       "Index: []"
      ]
     },
     "execution_count": 41,
     "metadata": {},
     "output_type": "execute_result"
    }
   ],
   "source": [
    "transcript.loc[transcript.loc[:,'value_keys']==0,:]"
   ]
  },
  {
   "cell_type": "markdown",
   "metadata": {},
   "source": [
    "There is in princple 3 different keys, since \"offer id\" and \"offer_id\" can be expected to be one and the same value. \n",
    "\n",
    "We should find a way to represent this data in a reasonable way so that we can use it more easily. The keys are not present in all entries, thus we should split the values into three columns, and for now at least we will fill with nan values where the key value is not valid. "
   ]
  },
  {
   "cell_type": "code",
   "execution_count": null,
   "metadata": {},
   "outputs": [],
   "source": []
  },
  {
   "cell_type": "code",
   "execution_count": 42,
   "metadata": {},
   "outputs": [],
   "source": [
    "def value_return(x, wanted_key = []):\n",
    "    for key in x['value_keys']:\n",
    "        if key in wanted_key:\n",
    "            return x['value'][key]\n",
    "    return np.nan\n",
    "\n",
    "offer_id = transcript.loc[:,['value_keys','value']].apply(value_return, axis=1, wanted_key=['offer_id', 'offer id'])\n",
    "amount = transcript.loc[:,['value_keys','value']].apply(value_return, axis=1, wanted_key=['amount'])\n",
    "reward = transcript.loc[:,['value_keys','value']].apply(value_return, axis=1, wanted_key=['reward'])"
   ]
  },
  {
   "cell_type": "code",
   "execution_count": 43,
   "metadata": {},
   "outputs": [],
   "source": [
    "transcript['offer_id'] = offer_id\n",
    "transcript['amount'] = amount\n",
    "transcript['reward'] = reward"
   ]
  },
  {
   "cell_type": "code",
   "execution_count": 44,
   "metadata": {},
   "outputs": [
    {
     "data": {
      "text/html": [
       "<div>\n",
       "<style scoped>\n",
       "    .dataframe tbody tr th:only-of-type {\n",
       "        vertical-align: middle;\n",
       "    }\n",
       "\n",
       "    .dataframe tbody tr th {\n",
       "        vertical-align: top;\n",
       "    }\n",
       "\n",
       "    .dataframe thead th {\n",
       "        text-align: right;\n",
       "    }\n",
       "</style>\n",
       "<table border=\"1\" class=\"dataframe\">\n",
       "  <thead>\n",
       "    <tr style=\"text-align: right;\">\n",
       "      <th></th>\n",
       "      <th>event</th>\n",
       "      <th>person</th>\n",
       "      <th>time</th>\n",
       "      <th>value</th>\n",
       "      <th>value_keys</th>\n",
       "      <th>num_value_keys</th>\n",
       "      <th>offer_id</th>\n",
       "      <th>amount</th>\n",
       "      <th>reward</th>\n",
       "    </tr>\n",
       "  </thead>\n",
       "  <tbody>\n",
       "    <tr>\n",
       "      <th>12654</th>\n",
       "      <td>transaction</td>\n",
       "      <td>02c083884c7d45b39cc68e1314fec56c</td>\n",
       "      <td>0</td>\n",
       "      <td>{'amount': 0.8300000000000001}</td>\n",
       "      <td>[amount]</td>\n",
       "      <td>1</td>\n",
       "      <td>NaN</td>\n",
       "      <td>0.83</td>\n",
       "      <td>NaN</td>\n",
       "    </tr>\n",
       "    <tr>\n",
       "      <th>12657</th>\n",
       "      <td>transaction</td>\n",
       "      <td>9fa9ae8f57894cc9a3b8a9bbe0fc1b2f</td>\n",
       "      <td>0</td>\n",
       "      <td>{'amount': 34.56}</td>\n",
       "      <td>[amount]</td>\n",
       "      <td>1</td>\n",
       "      <td>NaN</td>\n",
       "      <td>34.56</td>\n",
       "      <td>NaN</td>\n",
       "    </tr>\n",
       "    <tr>\n",
       "      <th>12659</th>\n",
       "      <td>transaction</td>\n",
       "      <td>54890f68699049c2a04d415abc25e717</td>\n",
       "      <td>0</td>\n",
       "      <td>{'amount': 13.23}</td>\n",
       "      <td>[amount]</td>\n",
       "      <td>1</td>\n",
       "      <td>NaN</td>\n",
       "      <td>13.23</td>\n",
       "      <td>NaN</td>\n",
       "    </tr>\n",
       "    <tr>\n",
       "      <th>12670</th>\n",
       "      <td>transaction</td>\n",
       "      <td>b2f1cd155b864803ad8334cdf13c4bd2</td>\n",
       "      <td>0</td>\n",
       "      <td>{'amount': 19.51}</td>\n",
       "      <td>[amount]</td>\n",
       "      <td>1</td>\n",
       "      <td>NaN</td>\n",
       "      <td>19.51</td>\n",
       "      <td>NaN</td>\n",
       "    </tr>\n",
       "    <tr>\n",
       "      <th>12671</th>\n",
       "      <td>transaction</td>\n",
       "      <td>fe97aa22dd3e48c8b143116a8403dd52</td>\n",
       "      <td>0</td>\n",
       "      <td>{'amount': 18.97}</td>\n",
       "      <td>[amount]</td>\n",
       "      <td>1</td>\n",
       "      <td>NaN</td>\n",
       "      <td>18.97</td>\n",
       "      <td>NaN</td>\n",
       "    </tr>\n",
       "  </tbody>\n",
       "</table>\n",
       "</div>"
      ],
      "text/plain": [
       "             event                            person  time  \\\n",
       "12654  transaction  02c083884c7d45b39cc68e1314fec56c     0   \n",
       "12657  transaction  9fa9ae8f57894cc9a3b8a9bbe0fc1b2f     0   \n",
       "12659  transaction  54890f68699049c2a04d415abc25e717     0   \n",
       "12670  transaction  b2f1cd155b864803ad8334cdf13c4bd2     0   \n",
       "12671  transaction  fe97aa22dd3e48c8b143116a8403dd52     0   \n",
       "\n",
       "                                value value_keys  num_value_keys offer_id  \\\n",
       "12654  {'amount': 0.8300000000000001}   [amount]               1      NaN   \n",
       "12657               {'amount': 34.56}   [amount]               1      NaN   \n",
       "12659               {'amount': 13.23}   [amount]               1      NaN   \n",
       "12670               {'amount': 19.51}   [amount]               1      NaN   \n",
       "12671               {'amount': 18.97}   [amount]               1      NaN   \n",
       "\n",
       "       amount  reward  \n",
       "12654    0.83     NaN  \n",
       "12657   34.56     NaN  \n",
       "12659   13.23     NaN  \n",
       "12670   19.51     NaN  \n",
       "12671   18.97     NaN  "
      ]
     },
     "execution_count": 44,
     "metadata": {},
     "output_type": "execute_result"
    }
   ],
   "source": [
    "transcript[~transcript['amount'].isna()].head()"
   ]
  },
  {
   "cell_type": "code",
   "execution_count": 45,
   "metadata": {},
   "outputs": [
    {
     "data": {
      "text/html": [
       "<div>\n",
       "<style scoped>\n",
       "    .dataframe tbody tr th:only-of-type {\n",
       "        vertical-align: middle;\n",
       "    }\n",
       "\n",
       "    .dataframe tbody tr th {\n",
       "        vertical-align: top;\n",
       "    }\n",
       "\n",
       "    .dataframe thead th {\n",
       "        text-align: right;\n",
       "    }\n",
       "</style>\n",
       "<table border=\"1\" class=\"dataframe\">\n",
       "  <thead>\n",
       "    <tr style=\"text-align: right;\">\n",
       "      <th></th>\n",
       "      <th>event</th>\n",
       "      <th>person</th>\n",
       "      <th>time</th>\n",
       "      <th>value</th>\n",
       "      <th>value_keys</th>\n",
       "      <th>num_value_keys</th>\n",
       "      <th>offer_id</th>\n",
       "      <th>amount</th>\n",
       "      <th>reward</th>\n",
       "    </tr>\n",
       "  </thead>\n",
       "  <tbody>\n",
       "    <tr>\n",
       "      <th>12658</th>\n",
       "      <td>offer completed</td>\n",
       "      <td>9fa9ae8f57894cc9a3b8a9bbe0fc1b2f</td>\n",
       "      <td>0</td>\n",
       "      <td>{'offer_id': '2906b810c7d4411798c6938adc9daaa5...</td>\n",
       "      <td>[offer_id, reward]</td>\n",
       "      <td>2</td>\n",
       "      <td>2906b810c7d4411798c6938adc9daaa5</td>\n",
       "      <td>NaN</td>\n",
       "      <td>2.0</td>\n",
       "    </tr>\n",
       "    <tr>\n",
       "      <th>12672</th>\n",
       "      <td>offer completed</td>\n",
       "      <td>fe97aa22dd3e48c8b143116a8403dd52</td>\n",
       "      <td>0</td>\n",
       "      <td>{'offer_id': 'fafdcd668e3743c1bb461111dcafc2a4...</td>\n",
       "      <td>[offer_id, reward]</td>\n",
       "      <td>2</td>\n",
       "      <td>fafdcd668e3743c1bb461111dcafc2a4</td>\n",
       "      <td>NaN</td>\n",
       "      <td>2.0</td>\n",
       "    </tr>\n",
       "    <tr>\n",
       "      <th>12679</th>\n",
       "      <td>offer completed</td>\n",
       "      <td>629fc02d56414d91bca360decdfa9288</td>\n",
       "      <td>0</td>\n",
       "      <td>{'offer_id': '9b98b8c7a33c4b65b9aebfe6a799e6d9...</td>\n",
       "      <td>[offer_id, reward]</td>\n",
       "      <td>2</td>\n",
       "      <td>9b98b8c7a33c4b65b9aebfe6a799e6d9</td>\n",
       "      <td>NaN</td>\n",
       "      <td>5.0</td>\n",
       "    </tr>\n",
       "    <tr>\n",
       "      <th>12692</th>\n",
       "      <td>offer completed</td>\n",
       "      <td>676506bad68e4161b9bbaffeb039626b</td>\n",
       "      <td>0</td>\n",
       "      <td>{'offer_id': 'ae264e3637204a6fb9bb56bc8210ddfd...</td>\n",
       "      <td>[offer_id, reward]</td>\n",
       "      <td>2</td>\n",
       "      <td>ae264e3637204a6fb9bb56bc8210ddfd</td>\n",
       "      <td>NaN</td>\n",
       "      <td>10.0</td>\n",
       "    </tr>\n",
       "    <tr>\n",
       "      <th>12697</th>\n",
       "      <td>offer completed</td>\n",
       "      <td>8f7dd3b2afe14c078eb4f6e6fe4ba97d</td>\n",
       "      <td>0</td>\n",
       "      <td>{'offer_id': '4d5c57ea9a6940dd891ad53e9dbe8da0...</td>\n",
       "      <td>[offer_id, reward]</td>\n",
       "      <td>2</td>\n",
       "      <td>4d5c57ea9a6940dd891ad53e9dbe8da0</td>\n",
       "      <td>NaN</td>\n",
       "      <td>10.0</td>\n",
       "    </tr>\n",
       "  </tbody>\n",
       "</table>\n",
       "</div>"
      ],
      "text/plain": [
       "                 event                            person  time  \\\n",
       "12658  offer completed  9fa9ae8f57894cc9a3b8a9bbe0fc1b2f     0   \n",
       "12672  offer completed  fe97aa22dd3e48c8b143116a8403dd52     0   \n",
       "12679  offer completed  629fc02d56414d91bca360decdfa9288     0   \n",
       "12692  offer completed  676506bad68e4161b9bbaffeb039626b     0   \n",
       "12697  offer completed  8f7dd3b2afe14c078eb4f6e6fe4ba97d     0   \n",
       "\n",
       "                                                   value          value_keys  \\\n",
       "12658  {'offer_id': '2906b810c7d4411798c6938adc9daaa5...  [offer_id, reward]   \n",
       "12672  {'offer_id': 'fafdcd668e3743c1bb461111dcafc2a4...  [offer_id, reward]   \n",
       "12679  {'offer_id': '9b98b8c7a33c4b65b9aebfe6a799e6d9...  [offer_id, reward]   \n",
       "12692  {'offer_id': 'ae264e3637204a6fb9bb56bc8210ddfd...  [offer_id, reward]   \n",
       "12697  {'offer_id': '4d5c57ea9a6940dd891ad53e9dbe8da0...  [offer_id, reward]   \n",
       "\n",
       "       num_value_keys                          offer_id  amount  reward  \n",
       "12658               2  2906b810c7d4411798c6938adc9daaa5     NaN     2.0  \n",
       "12672               2  fafdcd668e3743c1bb461111dcafc2a4     NaN     2.0  \n",
       "12679               2  9b98b8c7a33c4b65b9aebfe6a799e6d9     NaN     5.0  \n",
       "12692               2  ae264e3637204a6fb9bb56bc8210ddfd     NaN    10.0  \n",
       "12697               2  4d5c57ea9a6940dd891ad53e9dbe8da0     NaN    10.0  "
      ]
     },
     "execution_count": 45,
     "metadata": {},
     "output_type": "execute_result"
    }
   ],
   "source": [
    "transcript[~transcript['reward'].isna()].head()"
   ]
  },
  {
   "cell_type": "code",
   "execution_count": 46,
   "metadata": {},
   "outputs": [
    {
     "data": {
      "text/html": [
       "<div>\n",
       "<style scoped>\n",
       "    .dataframe tbody tr th:only-of-type {\n",
       "        vertical-align: middle;\n",
       "    }\n",
       "\n",
       "    .dataframe tbody tr th {\n",
       "        vertical-align: top;\n",
       "    }\n",
       "\n",
       "    .dataframe thead th {\n",
       "        text-align: right;\n",
       "    }\n",
       "</style>\n",
       "<table border=\"1\" class=\"dataframe\">\n",
       "  <thead>\n",
       "    <tr style=\"text-align: right;\">\n",
       "      <th></th>\n",
       "      <th>event</th>\n",
       "      <th>person</th>\n",
       "      <th>time</th>\n",
       "      <th>value</th>\n",
       "      <th>value_keys</th>\n",
       "      <th>num_value_keys</th>\n",
       "      <th>offer_id</th>\n",
       "      <th>amount</th>\n",
       "      <th>reward</th>\n",
       "    </tr>\n",
       "  </thead>\n",
       "  <tbody>\n",
       "    <tr>\n",
       "      <th>0</th>\n",
       "      <td>offer received</td>\n",
       "      <td>78afa995795e4d85b5d9ceeca43f5fef</td>\n",
       "      <td>0</td>\n",
       "      <td>{'offer id': '9b98b8c7a33c4b65b9aebfe6a799e6d9'}</td>\n",
       "      <td>[offer id]</td>\n",
       "      <td>1</td>\n",
       "      <td>9b98b8c7a33c4b65b9aebfe6a799e6d9</td>\n",
       "      <td>NaN</td>\n",
       "      <td>NaN</td>\n",
       "    </tr>\n",
       "    <tr>\n",
       "      <th>1</th>\n",
       "      <td>offer received</td>\n",
       "      <td>a03223e636434f42ac4c3df47e8bac43</td>\n",
       "      <td>0</td>\n",
       "      <td>{'offer id': '0b1e1539f2cc45b7b9fa7c272da2e1d7'}</td>\n",
       "      <td>[offer id]</td>\n",
       "      <td>1</td>\n",
       "      <td>0b1e1539f2cc45b7b9fa7c272da2e1d7</td>\n",
       "      <td>NaN</td>\n",
       "      <td>NaN</td>\n",
       "    </tr>\n",
       "    <tr>\n",
       "      <th>2</th>\n",
       "      <td>offer received</td>\n",
       "      <td>e2127556f4f64592b11af22de27a7932</td>\n",
       "      <td>0</td>\n",
       "      <td>{'offer id': '2906b810c7d4411798c6938adc9daaa5'}</td>\n",
       "      <td>[offer id]</td>\n",
       "      <td>1</td>\n",
       "      <td>2906b810c7d4411798c6938adc9daaa5</td>\n",
       "      <td>NaN</td>\n",
       "      <td>NaN</td>\n",
       "    </tr>\n",
       "    <tr>\n",
       "      <th>3</th>\n",
       "      <td>offer received</td>\n",
       "      <td>8ec6ce2a7e7949b1bf142def7d0e0586</td>\n",
       "      <td>0</td>\n",
       "      <td>{'offer id': 'fafdcd668e3743c1bb461111dcafc2a4'}</td>\n",
       "      <td>[offer id]</td>\n",
       "      <td>1</td>\n",
       "      <td>fafdcd668e3743c1bb461111dcafc2a4</td>\n",
       "      <td>NaN</td>\n",
       "      <td>NaN</td>\n",
       "    </tr>\n",
       "    <tr>\n",
       "      <th>4</th>\n",
       "      <td>offer received</td>\n",
       "      <td>68617ca6246f4fbc85e91a2a49552598</td>\n",
       "      <td>0</td>\n",
       "      <td>{'offer id': '4d5c57ea9a6940dd891ad53e9dbe8da0'}</td>\n",
       "      <td>[offer id]</td>\n",
       "      <td>1</td>\n",
       "      <td>4d5c57ea9a6940dd891ad53e9dbe8da0</td>\n",
       "      <td>NaN</td>\n",
       "      <td>NaN</td>\n",
       "    </tr>\n",
       "  </tbody>\n",
       "</table>\n",
       "</div>"
      ],
      "text/plain": [
       "            event                            person  time  \\\n",
       "0  offer received  78afa995795e4d85b5d9ceeca43f5fef     0   \n",
       "1  offer received  a03223e636434f42ac4c3df47e8bac43     0   \n",
       "2  offer received  e2127556f4f64592b11af22de27a7932     0   \n",
       "3  offer received  8ec6ce2a7e7949b1bf142def7d0e0586     0   \n",
       "4  offer received  68617ca6246f4fbc85e91a2a49552598     0   \n",
       "\n",
       "                                              value  value_keys  \\\n",
       "0  {'offer id': '9b98b8c7a33c4b65b9aebfe6a799e6d9'}  [offer id]   \n",
       "1  {'offer id': '0b1e1539f2cc45b7b9fa7c272da2e1d7'}  [offer id]   \n",
       "2  {'offer id': '2906b810c7d4411798c6938adc9daaa5'}  [offer id]   \n",
       "3  {'offer id': 'fafdcd668e3743c1bb461111dcafc2a4'}  [offer id]   \n",
       "4  {'offer id': '4d5c57ea9a6940dd891ad53e9dbe8da0'}  [offer id]   \n",
       "\n",
       "   num_value_keys                          offer_id  amount  reward  \n",
       "0               1  9b98b8c7a33c4b65b9aebfe6a799e6d9     NaN     NaN  \n",
       "1               1  0b1e1539f2cc45b7b9fa7c272da2e1d7     NaN     NaN  \n",
       "2               1  2906b810c7d4411798c6938adc9daaa5     NaN     NaN  \n",
       "3               1  fafdcd668e3743c1bb461111dcafc2a4     NaN     NaN  \n",
       "4               1  4d5c57ea9a6940dd891ad53e9dbe8da0     NaN     NaN  "
      ]
     },
     "execution_count": 46,
     "metadata": {},
     "output_type": "execute_result"
    }
   ],
   "source": [
    "transcript[~transcript['offer_id'].isna()].head()"
   ]
  },
  {
   "cell_type": "code",
   "execution_count": 47,
   "metadata": {},
   "outputs": [
    {
     "data": {
      "text/html": [
       "<div>\n",
       "<style scoped>\n",
       "    .dataframe tbody tr th:only-of-type {\n",
       "        vertical-align: middle;\n",
       "    }\n",
       "\n",
       "    .dataframe tbody tr th {\n",
       "        vertical-align: top;\n",
       "    }\n",
       "\n",
       "    .dataframe thead th {\n",
       "        text-align: right;\n",
       "    }\n",
       "</style>\n",
       "<table border=\"1\" class=\"dataframe\">\n",
       "  <thead>\n",
       "    <tr style=\"text-align: right;\">\n",
       "      <th></th>\n",
       "      <th>event</th>\n",
       "      <th>person</th>\n",
       "      <th>time</th>\n",
       "      <th>value</th>\n",
       "      <th>value_keys</th>\n",
       "      <th>num_value_keys</th>\n",
       "      <th>offer_id</th>\n",
       "      <th>amount</th>\n",
       "      <th>reward</th>\n",
       "    </tr>\n",
       "  </thead>\n",
       "  <tbody>\n",
       "    <tr>\n",
       "      <th>0</th>\n",
       "      <td>offer received</td>\n",
       "      <td>78afa995795e4d85b5d9ceeca43f5fef</td>\n",
       "      <td>0</td>\n",
       "      <td>{'offer id': '9b98b8c7a33c4b65b9aebfe6a799e6d9'}</td>\n",
       "      <td>[offer id]</td>\n",
       "      <td>1</td>\n",
       "      <td>9b98b8c7a33c4b65b9aebfe6a799e6d9</td>\n",
       "      <td>NaN</td>\n",
       "      <td>NaN</td>\n",
       "    </tr>\n",
       "    <tr>\n",
       "      <th>15561</th>\n",
       "      <td>offer viewed</td>\n",
       "      <td>78afa995795e4d85b5d9ceeca43f5fef</td>\n",
       "      <td>6</td>\n",
       "      <td>{'offer id': '9b98b8c7a33c4b65b9aebfe6a799e6d9'}</td>\n",
       "      <td>[offer id]</td>\n",
       "      <td>1</td>\n",
       "      <td>9b98b8c7a33c4b65b9aebfe6a799e6d9</td>\n",
       "      <td>NaN</td>\n",
       "      <td>NaN</td>\n",
       "    </tr>\n",
       "    <tr>\n",
       "      <th>47582</th>\n",
       "      <td>transaction</td>\n",
       "      <td>78afa995795e4d85b5d9ceeca43f5fef</td>\n",
       "      <td>132</td>\n",
       "      <td>{'amount': 19.89}</td>\n",
       "      <td>[amount]</td>\n",
       "      <td>1</td>\n",
       "      <td>NaN</td>\n",
       "      <td>19.89</td>\n",
       "      <td>NaN</td>\n",
       "    </tr>\n",
       "    <tr>\n",
       "      <th>47583</th>\n",
       "      <td>offer completed</td>\n",
       "      <td>78afa995795e4d85b5d9ceeca43f5fef</td>\n",
       "      <td>132</td>\n",
       "      <td>{'offer_id': '9b98b8c7a33c4b65b9aebfe6a799e6d9...</td>\n",
       "      <td>[offer_id, reward]</td>\n",
       "      <td>2</td>\n",
       "      <td>9b98b8c7a33c4b65b9aebfe6a799e6d9</td>\n",
       "      <td>NaN</td>\n",
       "      <td>5.0</td>\n",
       "    </tr>\n",
       "    <tr>\n",
       "      <th>49502</th>\n",
       "      <td>transaction</td>\n",
       "      <td>78afa995795e4d85b5d9ceeca43f5fef</td>\n",
       "      <td>144</td>\n",
       "      <td>{'amount': 17.78}</td>\n",
       "      <td>[amount]</td>\n",
       "      <td>1</td>\n",
       "      <td>NaN</td>\n",
       "      <td>17.78</td>\n",
       "      <td>NaN</td>\n",
       "    </tr>\n",
       "    <tr>\n",
       "      <th>53176</th>\n",
       "      <td>offer received</td>\n",
       "      <td>78afa995795e4d85b5d9ceeca43f5fef</td>\n",
       "      <td>168</td>\n",
       "      <td>{'offer id': '5a8bc65990b245e5a138643cd4eb9837'}</td>\n",
       "      <td>[offer id]</td>\n",
       "      <td>1</td>\n",
       "      <td>5a8bc65990b245e5a138643cd4eb9837</td>\n",
       "      <td>NaN</td>\n",
       "      <td>NaN</td>\n",
       "    </tr>\n",
       "    <tr>\n",
       "      <th>85291</th>\n",
       "      <td>offer viewed</td>\n",
       "      <td>78afa995795e4d85b5d9ceeca43f5fef</td>\n",
       "      <td>216</td>\n",
       "      <td>{'offer id': '5a8bc65990b245e5a138643cd4eb9837'}</td>\n",
       "      <td>[offer id]</td>\n",
       "      <td>1</td>\n",
       "      <td>5a8bc65990b245e5a138643cd4eb9837</td>\n",
       "      <td>NaN</td>\n",
       "      <td>NaN</td>\n",
       "    </tr>\n",
       "    <tr>\n",
       "      <th>87134</th>\n",
       "      <td>transaction</td>\n",
       "      <td>78afa995795e4d85b5d9ceeca43f5fef</td>\n",
       "      <td>222</td>\n",
       "      <td>{'amount': 19.67}</td>\n",
       "      <td>[amount]</td>\n",
       "      <td>1</td>\n",
       "      <td>NaN</td>\n",
       "      <td>19.67</td>\n",
       "      <td>NaN</td>\n",
       "    </tr>\n",
       "    <tr>\n",
       "      <th>92104</th>\n",
       "      <td>transaction</td>\n",
       "      <td>78afa995795e4d85b5d9ceeca43f5fef</td>\n",
       "      <td>240</td>\n",
       "      <td>{'amount': 29.72}</td>\n",
       "      <td>[amount]</td>\n",
       "      <td>1</td>\n",
       "      <td>NaN</td>\n",
       "      <td>29.72</td>\n",
       "      <td>NaN</td>\n",
       "    </tr>\n",
       "    <tr>\n",
       "      <th>141566</th>\n",
       "      <td>transaction</td>\n",
       "      <td>78afa995795e4d85b5d9ceeca43f5fef</td>\n",
       "      <td>378</td>\n",
       "      <td>{'amount': 23.93}</td>\n",
       "      <td>[amount]</td>\n",
       "      <td>1</td>\n",
       "      <td>NaN</td>\n",
       "      <td>23.93</td>\n",
       "      <td>NaN</td>\n",
       "    </tr>\n",
       "    <tr>\n",
       "      <th>150598</th>\n",
       "      <td>offer received</td>\n",
       "      <td>78afa995795e4d85b5d9ceeca43f5fef</td>\n",
       "      <td>408</td>\n",
       "      <td>{'offer id': 'ae264e3637204a6fb9bb56bc8210ddfd'}</td>\n",
       "      <td>[offer id]</td>\n",
       "      <td>1</td>\n",
       "      <td>ae264e3637204a6fb9bb56bc8210ddfd</td>\n",
       "      <td>NaN</td>\n",
       "      <td>NaN</td>\n",
       "    </tr>\n",
       "    <tr>\n",
       "      <th>163375</th>\n",
       "      <td>offer viewed</td>\n",
       "      <td>78afa995795e4d85b5d9ceeca43f5fef</td>\n",
       "      <td>408</td>\n",
       "      <td>{'offer id': 'ae264e3637204a6fb9bb56bc8210ddfd'}</td>\n",
       "      <td>[offer id]</td>\n",
       "      <td>1</td>\n",
       "      <td>ae264e3637204a6fb9bb56bc8210ddfd</td>\n",
       "      <td>NaN</td>\n",
       "      <td>NaN</td>\n",
       "    </tr>\n",
       "    <tr>\n",
       "      <th>201572</th>\n",
       "      <td>offer received</td>\n",
       "      <td>78afa995795e4d85b5d9ceeca43f5fef</td>\n",
       "      <td>504</td>\n",
       "      <td>{'offer id': 'f19421c1d4aa40978ebb69ca19b0e20d'}</td>\n",
       "      <td>[offer id]</td>\n",
       "      <td>1</td>\n",
       "      <td>f19421c1d4aa40978ebb69ca19b0e20d</td>\n",
       "      <td>NaN</td>\n",
       "      <td>NaN</td>\n",
       "    </tr>\n",
       "    <tr>\n",
       "      <th>218393</th>\n",
       "      <td>transaction</td>\n",
       "      <td>78afa995795e4d85b5d9ceeca43f5fef</td>\n",
       "      <td>510</td>\n",
       "      <td>{'amount': 21.72}</td>\n",
       "      <td>[amount]</td>\n",
       "      <td>1</td>\n",
       "      <td>NaN</td>\n",
       "      <td>21.72</td>\n",
       "      <td>NaN</td>\n",
       "    </tr>\n",
       "    <tr>\n",
       "      <th>218394</th>\n",
       "      <td>offer completed</td>\n",
       "      <td>78afa995795e4d85b5d9ceeca43f5fef</td>\n",
       "      <td>510</td>\n",
       "      <td>{'offer_id': 'ae264e3637204a6fb9bb56bc8210ddfd...</td>\n",
       "      <td>[offer_id, reward]</td>\n",
       "      <td>2</td>\n",
       "      <td>ae264e3637204a6fb9bb56bc8210ddfd</td>\n",
       "      <td>NaN</td>\n",
       "      <td>10.0</td>\n",
       "    </tr>\n",
       "    <tr>\n",
       "      <th>218395</th>\n",
       "      <td>offer completed</td>\n",
       "      <td>78afa995795e4d85b5d9ceeca43f5fef</td>\n",
       "      <td>510</td>\n",
       "      <td>{'offer_id': 'f19421c1d4aa40978ebb69ca19b0e20d...</td>\n",
       "      <td>[offer_id, reward]</td>\n",
       "      <td>2</td>\n",
       "      <td>f19421c1d4aa40978ebb69ca19b0e20d</td>\n",
       "      <td>NaN</td>\n",
       "      <td>5.0</td>\n",
       "    </tr>\n",
       "    <tr>\n",
       "      <th>230412</th>\n",
       "      <td>transaction</td>\n",
       "      <td>78afa995795e4d85b5d9ceeca43f5fef</td>\n",
       "      <td>534</td>\n",
       "      <td>{'amount': 26.56}</td>\n",
       "      <td>[amount]</td>\n",
       "      <td>1</td>\n",
       "      <td>NaN</td>\n",
       "      <td>26.56</td>\n",
       "      <td>NaN</td>\n",
       "    </tr>\n",
       "    <tr>\n",
       "      <th>262138</th>\n",
       "      <td>offer viewed</td>\n",
       "      <td>78afa995795e4d85b5d9ceeca43f5fef</td>\n",
       "      <td>582</td>\n",
       "      <td>{'offer id': 'f19421c1d4aa40978ebb69ca19b0e20d'}</td>\n",
       "      <td>[offer id]</td>\n",
       "      <td>1</td>\n",
       "      <td>f19421c1d4aa40978ebb69ca19b0e20d</td>\n",
       "      <td>NaN</td>\n",
       "      <td>NaN</td>\n",
       "    </tr>\n",
       "  </tbody>\n",
       "</table>\n",
       "</div>"
      ],
      "text/plain": [
       "                  event                            person  time  \\\n",
       "0        offer received  78afa995795e4d85b5d9ceeca43f5fef     0   \n",
       "15561      offer viewed  78afa995795e4d85b5d9ceeca43f5fef     6   \n",
       "47582       transaction  78afa995795e4d85b5d9ceeca43f5fef   132   \n",
       "47583   offer completed  78afa995795e4d85b5d9ceeca43f5fef   132   \n",
       "49502       transaction  78afa995795e4d85b5d9ceeca43f5fef   144   \n",
       "53176    offer received  78afa995795e4d85b5d9ceeca43f5fef   168   \n",
       "85291      offer viewed  78afa995795e4d85b5d9ceeca43f5fef   216   \n",
       "87134       transaction  78afa995795e4d85b5d9ceeca43f5fef   222   \n",
       "92104       transaction  78afa995795e4d85b5d9ceeca43f5fef   240   \n",
       "141566      transaction  78afa995795e4d85b5d9ceeca43f5fef   378   \n",
       "150598   offer received  78afa995795e4d85b5d9ceeca43f5fef   408   \n",
       "163375     offer viewed  78afa995795e4d85b5d9ceeca43f5fef   408   \n",
       "201572   offer received  78afa995795e4d85b5d9ceeca43f5fef   504   \n",
       "218393      transaction  78afa995795e4d85b5d9ceeca43f5fef   510   \n",
       "218394  offer completed  78afa995795e4d85b5d9ceeca43f5fef   510   \n",
       "218395  offer completed  78afa995795e4d85b5d9ceeca43f5fef   510   \n",
       "230412      transaction  78afa995795e4d85b5d9ceeca43f5fef   534   \n",
       "262138     offer viewed  78afa995795e4d85b5d9ceeca43f5fef   582   \n",
       "\n",
       "                                                    value          value_keys  \\\n",
       "0        {'offer id': '9b98b8c7a33c4b65b9aebfe6a799e6d9'}          [offer id]   \n",
       "15561    {'offer id': '9b98b8c7a33c4b65b9aebfe6a799e6d9'}          [offer id]   \n",
       "47582                                   {'amount': 19.89}            [amount]   \n",
       "47583   {'offer_id': '9b98b8c7a33c4b65b9aebfe6a799e6d9...  [offer_id, reward]   \n",
       "49502                                   {'amount': 17.78}            [amount]   \n",
       "53176    {'offer id': '5a8bc65990b245e5a138643cd4eb9837'}          [offer id]   \n",
       "85291    {'offer id': '5a8bc65990b245e5a138643cd4eb9837'}          [offer id]   \n",
       "87134                                   {'amount': 19.67}            [amount]   \n",
       "92104                                   {'amount': 29.72}            [amount]   \n",
       "141566                                  {'amount': 23.93}            [amount]   \n",
       "150598   {'offer id': 'ae264e3637204a6fb9bb56bc8210ddfd'}          [offer id]   \n",
       "163375   {'offer id': 'ae264e3637204a6fb9bb56bc8210ddfd'}          [offer id]   \n",
       "201572   {'offer id': 'f19421c1d4aa40978ebb69ca19b0e20d'}          [offer id]   \n",
       "218393                                  {'amount': 21.72}            [amount]   \n",
       "218394  {'offer_id': 'ae264e3637204a6fb9bb56bc8210ddfd...  [offer_id, reward]   \n",
       "218395  {'offer_id': 'f19421c1d4aa40978ebb69ca19b0e20d...  [offer_id, reward]   \n",
       "230412                                  {'amount': 26.56}            [amount]   \n",
       "262138   {'offer id': 'f19421c1d4aa40978ebb69ca19b0e20d'}          [offer id]   \n",
       "\n",
       "        num_value_keys                          offer_id  amount  reward  \n",
       "0                    1  9b98b8c7a33c4b65b9aebfe6a799e6d9     NaN     NaN  \n",
       "15561                1  9b98b8c7a33c4b65b9aebfe6a799e6d9     NaN     NaN  \n",
       "47582                1                               NaN   19.89     NaN  \n",
       "47583                2  9b98b8c7a33c4b65b9aebfe6a799e6d9     NaN     5.0  \n",
       "49502                1                               NaN   17.78     NaN  \n",
       "53176                1  5a8bc65990b245e5a138643cd4eb9837     NaN     NaN  \n",
       "85291                1  5a8bc65990b245e5a138643cd4eb9837     NaN     NaN  \n",
       "87134                1                               NaN   19.67     NaN  \n",
       "92104                1                               NaN   29.72     NaN  \n",
       "141566               1                               NaN   23.93     NaN  \n",
       "150598               1  ae264e3637204a6fb9bb56bc8210ddfd     NaN     NaN  \n",
       "163375               1  ae264e3637204a6fb9bb56bc8210ddfd     NaN     NaN  \n",
       "201572               1  f19421c1d4aa40978ebb69ca19b0e20d     NaN     NaN  \n",
       "218393               1                               NaN   21.72     NaN  \n",
       "218394               2  ae264e3637204a6fb9bb56bc8210ddfd     NaN    10.0  \n",
       "218395               2  f19421c1d4aa40978ebb69ca19b0e20d     NaN     5.0  \n",
       "230412               1                               NaN   26.56     NaN  \n",
       "262138               1  f19421c1d4aa40978ebb69ca19b0e20d     NaN     NaN  "
      ]
     },
     "execution_count": 47,
     "metadata": {},
     "output_type": "execute_result"
    }
   ],
   "source": [
    "transcript[transcript['person']==transcript.loc[0, 'person']]"
   ]
  },
  {
   "cell_type": "code",
   "execution_count": 48,
   "metadata": {},
   "outputs": [],
   "source": [
    "transcript_clean = transcript.drop(columns=['value', 'value_keys', 'num_value_keys'])"
   ]
  },
  {
   "cell_type": "code",
   "execution_count": 49,
   "metadata": {},
   "outputs": [
    {
     "data": {
      "text/html": [
       "<div>\n",
       "<style scoped>\n",
       "    .dataframe tbody tr th:only-of-type {\n",
       "        vertical-align: middle;\n",
       "    }\n",
       "\n",
       "    .dataframe tbody tr th {\n",
       "        vertical-align: top;\n",
       "    }\n",
       "\n",
       "    .dataframe thead th {\n",
       "        text-align: right;\n",
       "    }\n",
       "</style>\n",
       "<table border=\"1\" class=\"dataframe\">\n",
       "  <thead>\n",
       "    <tr style=\"text-align: right;\">\n",
       "      <th></th>\n",
       "      <th>event</th>\n",
       "      <th>person</th>\n",
       "      <th>time</th>\n",
       "      <th>offer_id</th>\n",
       "      <th>amount</th>\n",
       "      <th>reward</th>\n",
       "    </tr>\n",
       "  </thead>\n",
       "  <tbody>\n",
       "    <tr>\n",
       "      <th>0</th>\n",
       "      <td>offer received</td>\n",
       "      <td>78afa995795e4d85b5d9ceeca43f5fef</td>\n",
       "      <td>0</td>\n",
       "      <td>9b98b8c7a33c4b65b9aebfe6a799e6d9</td>\n",
       "      <td>NaN</td>\n",
       "      <td>NaN</td>\n",
       "    </tr>\n",
       "    <tr>\n",
       "      <th>1</th>\n",
       "      <td>offer received</td>\n",
       "      <td>a03223e636434f42ac4c3df47e8bac43</td>\n",
       "      <td>0</td>\n",
       "      <td>0b1e1539f2cc45b7b9fa7c272da2e1d7</td>\n",
       "      <td>NaN</td>\n",
       "      <td>NaN</td>\n",
       "    </tr>\n",
       "    <tr>\n",
       "      <th>2</th>\n",
       "      <td>offer received</td>\n",
       "      <td>e2127556f4f64592b11af22de27a7932</td>\n",
       "      <td>0</td>\n",
       "      <td>2906b810c7d4411798c6938adc9daaa5</td>\n",
       "      <td>NaN</td>\n",
       "      <td>NaN</td>\n",
       "    </tr>\n",
       "    <tr>\n",
       "      <th>3</th>\n",
       "      <td>offer received</td>\n",
       "      <td>8ec6ce2a7e7949b1bf142def7d0e0586</td>\n",
       "      <td>0</td>\n",
       "      <td>fafdcd668e3743c1bb461111dcafc2a4</td>\n",
       "      <td>NaN</td>\n",
       "      <td>NaN</td>\n",
       "    </tr>\n",
       "    <tr>\n",
       "      <th>4</th>\n",
       "      <td>offer received</td>\n",
       "      <td>68617ca6246f4fbc85e91a2a49552598</td>\n",
       "      <td>0</td>\n",
       "      <td>4d5c57ea9a6940dd891ad53e9dbe8da0</td>\n",
       "      <td>NaN</td>\n",
       "      <td>NaN</td>\n",
       "    </tr>\n",
       "  </tbody>\n",
       "</table>\n",
       "</div>"
      ],
      "text/plain": [
       "            event                            person  time  \\\n",
       "0  offer received  78afa995795e4d85b5d9ceeca43f5fef     0   \n",
       "1  offer received  a03223e636434f42ac4c3df47e8bac43     0   \n",
       "2  offer received  e2127556f4f64592b11af22de27a7932     0   \n",
       "3  offer received  8ec6ce2a7e7949b1bf142def7d0e0586     0   \n",
       "4  offer received  68617ca6246f4fbc85e91a2a49552598     0   \n",
       "\n",
       "                           offer_id  amount  reward  \n",
       "0  9b98b8c7a33c4b65b9aebfe6a799e6d9     NaN     NaN  \n",
       "1  0b1e1539f2cc45b7b9fa7c272da2e1d7     NaN     NaN  \n",
       "2  2906b810c7d4411798c6938adc9daaa5     NaN     NaN  \n",
       "3  fafdcd668e3743c1bb461111dcafc2a4     NaN     NaN  \n",
       "4  4d5c57ea9a6940dd891ad53e9dbe8da0     NaN     NaN  "
      ]
     },
     "execution_count": 49,
     "metadata": {},
     "output_type": "execute_result"
    }
   ],
   "source": [
    "transcript_clean.head()"
   ]
  },
  {
   "cell_type": "markdown",
   "metadata": {},
   "source": [
    "Now we need to start looking into the details of the data, combining the users, history, offer details to get some useful predictions out of it. \n",
    "\n",
    "There are several potential research questions we can go after. I'll leave it for later to decide on which  to solve here, but it is always good to think through it once the initial data exploration is done; \n",
    "\n",
    "- can we predict who will fulfill an offer?\n",
    "- are there certain groups that respond better to certain offers than other groups?\n",
    "- are the groups that respond better to certain offers in general more inclined to be swayed by any offer?\n",
    "- are there some offers that make users increase their spendings than other offers?\n",
    "- are there many users that spend quite some money, but seldom views the offers given? Are they consistent in their spending?\n",
    "- Are there groups where giving informational offers and no rewards are just as effective as rewards?\n",
    "\n",
    "We could probably think of many more questions, and will probably do that when we start looking into the links between users, transactions and offers. \n"
   ]
  },
  {
   "cell_type": "markdown",
   "metadata": {},
   "source": [
    "#### Users without transactions or not viewing offers\n",
    "We should check the users that has not transactions or spent any dollars through the app. This can be useful information in itself. But it could be that the users with a default profile, also is represented mostly among users not spending anything. Thus, we don't have information on the user, nor the spending and the users are in princple worthles. \n",
    "\n",
    "If users with a default profile actually has a spending, we could treat those as a separate user-group. Also, the ones with a profile set up but no spending can give useful information. \n",
    "\n",
    "The same can be said for users that never view any offers, is this also usually people with a default profile? But first, let's check the demography without any spendings or transactions"
   ]
  },
  {
   "cell_type": "code",
   "execution_count": 50,
   "metadata": {},
   "outputs": [
    {
     "data": {
      "text/plain": [
       "(89, 5)"
      ]
     },
     "execution_count": 50,
     "metadata": {},
     "output_type": "execute_result"
    }
   ],
   "source": [
    "idx = pd.IndexSlice\n",
    "persons_with_transactions = transcript_clean.loc[:,['event', 'person', 'amount']].groupby(by=['event', 'person']).count()\n",
    "persons_with_transactions = persons_with_transactions.loc[idx['transaction',:],:].sort_values('amount').reset_index(level=0, drop=True).reset_index()\n",
    "persons_with_transactions = persons_with_transactions['person']\n",
    "\n",
    "profile_default_users = profile.loc[profile['gender'].isna(),'id']\n",
    "#transcript of users without transactions\n",
    "transcript_no_transactions = transcript_clean.loc[~transcript_clean['person'].isin(persons_with_transactions),:]\n",
    "#profiles with no transactions\n",
    "profile_no_transactions = profile.loc[~profile['id'].isin(persons_with_transactions)]\n",
    "#default profiles with no transactions\n",
    "profile_default_no_transactions = profile_no_transactions.loc[profile_no_transactions['gender'].isna(),:]\n",
    "profile_default_no_transactions.shape"
   ]
  },
  {
   "cell_type": "markdown",
   "metadata": {},
   "source": [
    "So, there are 89 user profiles which are both default and has no transactions. Meaning they don't use the platform, and we have no way of knowning who they are. Thus we cannot perform any inference on them. I'll remove them. "
   ]
  },
  {
   "cell_type": "code",
   "execution_count": 66,
   "metadata": {},
   "outputs": [],
   "source": [
    "transcript_clean = transcript_clean.loc[~transcript_clean['person'].isin(profile_default_no_transactions['id']),:]\n",
    "profile_clean = profile.loc[~profile['id'].isin(profile_default_no_transactions['id']),:]"
   ]
  },
  {
   "cell_type": "markdown",
   "metadata": {},
   "source": [
    "To ease further working the current cleaning has been added to the functions in the utils package. Here is a test of the algorithms"
   ]
  },
  {
   "cell_type": "code",
   "execution_count": 7,
   "metadata": {},
   "outputs": [],
   "source": [
    "# read in the json files\n",
    "portfolio = pd.read_json('data/portfolio.json', orient='records', lines=True)\n",
    "profile = pd.read_json('data/profile.json', orient='records', lines=True)\n",
    "transcript = pd.read_json('data/transcript.json', orient='records', lines=True)\n",
    "\n",
    "from utils.cleaning import clean_data\n",
    "port_algo_cleaned, prof_algo_cleaned, trans_algo_cleaned = clean_data(portfolio, profile, transcript)\n"
   ]
  },
  {
   "cell_type": "code",
   "execution_count": 8,
   "metadata": {},
   "outputs": [
    {
     "data": {
      "text/plain": [
       "True"
      ]
     },
     "execution_count": 8,
     "metadata": {},
     "output_type": "execute_result"
    }
   ],
   "source": [
    "port_algo_cleaned.equals(portfolio_clean)"
   ]
  },
  {
   "cell_type": "code",
   "execution_count": 10,
   "metadata": {},
   "outputs": [
    {
     "data": {
      "text/plain": [
       "True"
      ]
     },
     "execution_count": 10,
     "metadata": {},
     "output_type": "execute_result"
    }
   ],
   "source": [
    "prof_algo_cleaned.equals(profile_clean)"
   ]
  },
  {
   "cell_type": "code",
   "execution_count": 11,
   "metadata": {},
   "outputs": [
    {
     "data": {
      "text/plain": [
       "True"
      ]
     },
     "execution_count": 11,
     "metadata": {},
     "output_type": "execute_result"
    }
   ],
   "source": [
    "trans_algo_cleaned.equals(transcript_clean)"
   ]
  },
  {
   "cell_type": "markdown",
   "metadata": {},
   "source": [
    "## User spending histories \n",
    "We will first look at some users and their spending history. As there is many situations to encounter and milestones to consider, I expect that we would need to develop our transcript data to include some time dependent data for each user. For instance, looking at accumulated spendings between the time an offer has been viewed and the offer finished, and the amount spent outside any offers viewed. \n",
    "\n",
    "I will assume that any users that has not viewed the offer, is not aware of it and will not be influenced by it. Thus, transactions made after the offer is received and before the offer is reviewed will not be considered as a part of the reponse to the offer. \n",
    "\n",
    "However, first, let's try to visualize time-histories of some users interactions. We'll start with users with quite some transactions\n",
    "\n"
   ]
  },
  {
   "cell_type": "code",
   "execution_count": 2,
   "metadata": {},
   "outputs": [
    {
     "data": {
      "text/plain": [
       "array(['offer received', 'offer viewed', 'transaction', 'offer completed'],\n",
       "      dtype=object)"
      ]
     },
     "execution_count": 2,
     "metadata": {},
     "output_type": "execute_result"
    }
   ],
   "source": [
    "from utils.cleaning import clean_data, get_users_with_most_transactions\n",
    "from utils.plots import simple_offer_plot\n",
    "\n",
    "# read in the json files\n",
    "portfolio = pd.read_json('data/portfolio.json', orient='records', lines=True)\n",
    "profile = pd.read_json('data/profile.json', orient='records', lines=True)\n",
    "transcript = pd.read_json('data/transcript.json', orient='records', lines=True)\n",
    "\n",
    "portfolio_clean, profile_clean, transcript_clean = clean_data(portfolio, profile, transcript)\n",
    "\n",
    "transcript_clean['event'].unique()"
   ]
  },
  {
   "cell_type": "markdown",
   "metadata": {},
   "source": [
    "I would like to investigate how the nature of the offerings are by plotting the offers given, when they are viewed and other facts related. I was thinking about a sort of Gantt chart layout, but that will only work if the number of offers given are relatively low"
   ]
  },
  {
   "cell_type": "code",
   "execution_count": 3,
   "metadata": {},
   "outputs": [
    {
     "data": {
      "text/html": [
       "<div>\n",
       "<style scoped>\n",
       "    .dataframe tbody tr th:only-of-type {\n",
       "        vertical-align: middle;\n",
       "    }\n",
       "\n",
       "    .dataframe tbody tr th {\n",
       "        vertical-align: top;\n",
       "    }\n",
       "\n",
       "    .dataframe thead th {\n",
       "        text-align: right;\n",
       "    }\n",
       "</style>\n",
       "<table border=\"1\" class=\"dataframe\">\n",
       "  <thead>\n",
       "    <tr style=\"text-align: right;\">\n",
       "      <th></th>\n",
       "      <th>event</th>\n",
       "      <th>time</th>\n",
       "      <th>offer_id</th>\n",
       "      <th>amount</th>\n",
       "      <th>reward</th>\n",
       "    </tr>\n",
       "    <tr>\n",
       "      <th>id</th>\n",
       "      <th></th>\n",
       "      <th></th>\n",
       "      <th></th>\n",
       "      <th></th>\n",
       "      <th></th>\n",
       "    </tr>\n",
       "  </thead>\n",
       "  <tbody>\n",
       "    <tr>\n",
       "      <th>7fc83dab9a6844ca82aca3f72e2e9c43</th>\n",
       "      <td>6</td>\n",
       "      <td>6</td>\n",
       "      <td>6</td>\n",
       "      <td>0</td>\n",
       "      <td>0</td>\n",
       "    </tr>\n",
       "    <tr>\n",
       "      <th>7002342f48214d5bb4d7ec33e0c9e3db</th>\n",
       "      <td>6</td>\n",
       "      <td>6</td>\n",
       "      <td>6</td>\n",
       "      <td>0</td>\n",
       "      <td>0</td>\n",
       "    </tr>\n",
       "    <tr>\n",
       "      <th>7104c937e25148bda396c5a0cbdf3959</th>\n",
       "      <td>6</td>\n",
       "      <td>6</td>\n",
       "      <td>6</td>\n",
       "      <td>0</td>\n",
       "      <td>0</td>\n",
       "    </tr>\n",
       "    <tr>\n",
       "      <th>70f115dc7bf84a2ca3b1481639590f2b</th>\n",
       "      <td>6</td>\n",
       "      <td>6</td>\n",
       "      <td>6</td>\n",
       "      <td>0</td>\n",
       "      <td>0</td>\n",
       "    </tr>\n",
       "    <tr>\n",
       "      <th>70f0cba2dfeb48d2817d789ba39b1939</th>\n",
       "      <td>6</td>\n",
       "      <td>6</td>\n",
       "      <td>6</td>\n",
       "      <td>0</td>\n",
       "      <td>0</td>\n",
       "    </tr>\n",
       "  </tbody>\n",
       "</table>\n",
       "</div>"
      ],
      "text/plain": [
       "                                  event  time  offer_id  amount  reward\n",
       "id                                                                     \n",
       "7fc83dab9a6844ca82aca3f72e2e9c43      6     6         6       0       0\n",
       "7002342f48214d5bb4d7ec33e0c9e3db      6     6         6       0       0\n",
       "7104c937e25148bda396c5a0cbdf3959      6     6         6       0       0\n",
       "70f115dc7bf84a2ca3b1481639590f2b      6     6         6       0       0\n",
       "70f0cba2dfeb48d2817d789ba39b1939      6     6         6       0       0"
      ]
     },
     "execution_count": 3,
     "metadata": {},
     "output_type": "execute_result"
    }
   ],
   "source": [
    "transcript_clean[transcript_clean['event']=='offer received'].groupby('id').count().sort_values('time', ascending=False).head()"
   ]
  },
  {
   "cell_type": "markdown",
   "metadata": {},
   "source": [
    "As we can see, the maximum numbers of offers given are 6. Thus I can generate a plot that shows the offers in separate subplots with some details to it. This will help us understand how the offers are generated and distributed and what we could expect to do with them. "
   ]
  },
  {
   "cell_type": "code",
   "execution_count": 6,
   "metadata": {},
   "outputs": [
    {
     "name": "stdout",
     "output_type": "stream",
     "text": [
      "79d9d4f86aca4bed9290350fb43817c2 [(0, 240), (168, 336), (336, 504), (408, 648), (576, 672)] [240 168 168 240  96] [ 5  5  7 11  1]\n"
     ]
    },
    {
     "data": {
      "image/png": "[encoded data removed]",
      "text/plain": [
       "<Figure size 432x288 with 1 Axes>"
      ]
     },
     "metadata": {
      "needs_background": "light"
     },
     "output_type": "display_data"
    },
    {
     "name": "stdout",
     "output_type": "stream",
     "text": [
      "8dbfa485249f409aa223a2130f40634a [(0, 120), (168, 408), (408, 576), (504, 672), (576, 816)] [120 240 168 168 240] [21  5  7 21 11]\n"
     ]
    },
    {
     "data": {
      "image/png": "[encoded data removed]",
      "text/plain": [
       "<Figure size 432x288 with 1 Axes>"
      ]
     },
     "metadata": {
      "needs_background": "light"
     },
     "output_type": "display_data"
    },
    {
     "name": "stdout",
     "output_type": "stream",
     "text": [
      "94de646f7b6041228ca7dec82adb97d2 [(0, 120), (168, 336), (336, 576), (408, 648), (504, 672), (576, 696)] [120 168 240 240 168 120] [11 11 11  5 11 21]\n"
     ]
    },
    {
     "data": {
      "image/png": "[encoded data removed]",
      "text/plain": [
       "<Figure size 432x288 with 1 Axes>"
      ]
     },
     "metadata": {
      "needs_background": "light"
     },
     "output_type": "display_data"
    },
    {
     "name": "stdout",
     "output_type": "stream",
     "text": [
      "b1f4ece7d49342628a9ed77aee2cde58 [(0, 168), (168, 336), (336, 576), (504, 672), (576, 696)] [168 168 240 168 120] [ 7  5  5  5 11]\n"
     ]
    },
    {
     "data": {
      "image/png": "[encoded data removed]",
      "text/plain": [
       "<Figure size 432x288 with 1 Axes>"
      ]
     },
     "metadata": {
      "needs_background": "light"
     },
     "output_type": "display_data"
    },
    {
     "name": "stdout",
     "output_type": "stream",
     "text": [
      "5e60c6aa3b834e44b822ea43a3efea26 [(0, 120), (168, 336), (336, 576), (408, 576), (504, 576), (576, 744)] [120 168 240 168  72 168] [11 21 11  5  1  7]\n"
     ]
    },
    {
     "data": {
      "image/png": "[encoded data removed]",
      "text/plain": [
       "<Figure size 432x288 with 1 Axes>"
      ]
     },
     "metadata": {
      "needs_background": "light"
     },
     "output_type": "display_data"
    },
    {
     "name": "stdout",
     "output_type": "stream",
     "text": [
      "a42ed50acc4d4b25bca647c9e0b916ad [(0, 240), (168, 408), (336, 408), (408, 648), (504, 744), (576, 744)] [240 240  72 240 240 168] [ 5 11  1 11  5  7]\n"
     ]
    },
    {
     "data": {
      "image/png": "[encoded data removed]",
      "text/plain": [
       "<Figure size 432x288 with 1 Axes>"
      ]
     },
     "metadata": {
      "needs_background": "light"
     },
     "output_type": "display_data"
    },
    {
     "name": "stdout",
     "output_type": "stream",
     "text": [
      "28681c16026943e68f26feaccab0907f [(0, 168), (168, 336), (336, 504), (408, 528), (504, 744), (576, 696)] [168 168 168 120 240 120] [ 5 21  5 21  5 21]\n"
     ]
    },
    {
     "data": {
      "image/png": "[encoded data removed]",
      "text/plain": [
       "<Figure size 432x288 with 1 Axes>"
      ]
     },
     "metadata": {
      "needs_background": "light"
     },
     "output_type": "display_data"
    },
    {
     "name": "stdout",
     "output_type": "stream",
     "text": [
      "d0a80415b84c4df4908b8403b19765e3 [(0, 120), (168, 408), (336, 456), (408, 528), (504, 624), (576, 744)] [120 240 120 120 120 168] [11  5 21 21 11 21]\n"
     ]
    },
    {
     "data": {
      "image/png": "[encoded data removed]",
      "text/plain": [
       "<Figure size 432x288 with 1 Axes>"
      ]
     },
     "metadata": {
      "needs_background": "light"
     },
     "output_type": "display_data"
    },
    {
     "name": "stdout",
     "output_type": "stream",
     "text": [
      "ab25fd6fbd5040f880751921e4029757 [(0, 168), (168, 288), (336, 504), (504, 744), (576, 744)] [168 120 168 240 168] [ 7 21  7  5 11]\n"
     ]
    },
    {
     "data": {
      "image/png": "[encoded data removed]",
      "text/plain": [
       "<Figure size 432x288 with 1 Axes>"
      ]
     },
     "metadata": {
      "needs_background": "light"
     },
     "output_type": "display_data"
    },
    {
     "name": "stdout",
     "output_type": "stream",
     "text": [
      "40ce078d5b2a43d19138a788754520be [(0, 240), (168, 336), (336, 576), (576, 696)] [240 168 240 120] [ 5 21  5 21]\n"
     ]
    },
    {
     "data": {
      "image/png": "[encoded data removed]",
      "text/plain": [
       "<Figure size 432x288 with 1 Axes>"
      ]
     },
     "metadata": {
      "needs_background": "light"
     },
     "output_type": "display_data"
    }
   ],
   "source": [
    "\n",
    "\n",
    "users = get_users_with_most_transactions(transcript_clean, n=10)\n",
    "\n",
    "for user in users:\n",
    "    fig, ax = plt.subplots(1)\n",
    "    ax = simple_offer_plot(user, portfolio_clean, profile_clean, transcript_clean, ax)\n",
    "    plt.show()"
   ]
  },
  {
   "cell_type": "code",
   "execution_count": 25,
   "metadata": {},
   "outputs": [],
   "source": [
    "from matplotlib.lines import Line2D\n",
    "from matplotlib.markers import TICKUP\n",
    "from matplotlib.patches import Rectangle\n",
    "def detailed_offer_plot(user, portfolio, profile, transcript):\n",
    "    \n",
    "    #get user related data\n",
    "    user_transcript = transcript.loc[transcript['id'] == user, :]\n",
    "    user_profile = profile.loc[profile['id'] == user, :]\n",
    "    user_transactions = user_transcript.loc[user_transcript['event']=='transaction',['time', 'amount']]\n",
    "    \n",
    "    #plot params\n",
    "    max_transaction = user_transactions['amount'].max()\n",
    "    mheight = max_transaction\n",
    "    mcntr = mheight/2\n",
    "    mrksize = 15\n",
    "    \n",
    "    #get offer history\n",
    "    offer_ids = [(i,offer_id) for i,offer_id in enumerate(user_transcript.loc[user_transcript['event'] == 'offer received', 'offer_id'])]\n",
    "    offers_start = np.array(user_transcript.loc[user_transcript['event'] == 'offer received', 'time'])\n",
    "    offers_type = np.array([portfolio_clean.loc[portfolio_clean['id'] == offer_id, 'offer_type'].values.astype(str)[0] for offer_id in\n",
    "         user_transcript.loc[user_transcript['event'] == 'offer received', 'offer_id']])\n",
    "    offers_difficulty = np.array([portfolio_clean.loc[portfolio_clean['id'] == offer_id, 'difficulty'].values.astype(str)[0] for offer_id in\n",
    "         user_transcript.loc[user_transcript['event'] == 'offer received', 'offer_id']])\n",
    "    offers_reward = np.array([portfolio_clean.loc[portfolio_clean['id'] == offer_id, 'reward'].values.astype(str)[0] for offer_id in\n",
    "         user_transcript.loc[user_transcript['event'] == 'offer received', 'offer_id']])\n",
    "    n_offers = len(offers_start)\n",
    "    offers_duration = np.array(\n",
    "        [portfolio.loc[portfolio['id'] == offer_id, 'duration'].values.astype(int)[0] * 24 for offer_id in\n",
    "         user_transcript.loc[user_transcript['event'] == 'offer received', 'offer_id']])\n",
    "    offers_end = np.array(user_transcript.loc[user_transcript['event'] == 'offer received', 'time']) + offers_duration\n",
    "    offers_viewed = np.array(user_transcript.loc[user_transcript['event'] == 'offer viewed', ['time', 'offer_id']])\n",
    "    offers_completed = np.array(user_transcript.loc[user_transcript['event'] == 'offer completed', ['time', 'offer_id']])\n",
    "    \n",
    "    fig, axs = plt.subplots(n_offers+1,1,sharex=True, figsize=(12,1*n_offers));\n",
    "    for i, ax in enumerate(axs[:-1]):\n",
    "        offer_id = offer_ids[i][1]\n",
    "        offer_start = offers_start[i]\n",
    "        offer_end = offers_end[i]\n",
    "        offer_duration = offers_duration[i]\n",
    "        offer_type = offers_type[i]\n",
    "        offer_difficulty = offers_difficulty[i]\n",
    "        offer_reward = offers_reward[i]\n",
    "        offer_completed = None\n",
    "        offer_viewed = None\n",
    "        \n",
    "        # Check if any completion for offer id is within duration\n",
    "        for time,completion_offer_id in offers_completed:\n",
    "            if completion_offer_id == offer_id and time>=offer_start and time<=offer_end:\n",
    "                offer_completed = time\n",
    "                break        \n",
    "        \n",
    "        # Check if any offer viewed for offer id is within duration\n",
    "        for time, viewed_offer_id in offers_viewed:\n",
    "            if viewed_offer_id == offer_id and time>=offer_start and time<=offer_end:\n",
    "                offer_viewed = time\n",
    "                break    \n",
    "        \n",
    "        #print(offer_id, offer_start, offer_end, offer_duration, offer_completed, offer_type)\n",
    "        \n",
    "        offer_rec = Rectangle((offer_start, 0), offer_duration, mheight, facecolor='silver', alpha=0.5, edgecolor='k', linewidth=2)\n",
    "        ax.add_patch(offer_rec)\n",
    "        \n",
    "        ax.plot(offer_start, mcntr, 'g', marker=5, markersize=mrksize, label='offer start')\n",
    "        ax.plot(offer_end, mcntr, 'r', marker=4, markersize=mrksize, label='offer end')\n",
    "        if offer_viewed and offer_completed:\n",
    "            if offer_viewed <= offer_completed:\n",
    "                ax.plot(offer_viewed, mcntr, 'y', marker='d', markersize=mrksize, label='viewed offer')\n",
    "                ax.plot(offer_completed, mcntr, 'b', marker='*', markersize=mrksize, label='completed offer')\n",
    "            else:\n",
    "                ax.plot(offer_viewed, mcntr, 'maroon', marker='d', markersize=mrksize, label='viewed after completion')\n",
    "                ax.plot(offer_completed, mcntr, 'b', marker='*', markersize=mrksize, label='completed offer')\n",
    "        elif offer_viewed:\n",
    "            ax.plot(offer_viewed, mcntr, 'y', marker='d', markersize=mrksize, label='viewed offer')\n",
    "        if offer_completed:\n",
    "            ax.plot(offer_completed, mcntr, 'b', marker='*', markersize=mrksize, label='completed offer')\n",
    "        text_x = 600\n",
    "        if offer_start>150:\n",
    "            text_x = 2\n",
    "        elif offer_start<550:\n",
    "            text_x = 600\n",
    "            \n",
    "        #plot transactions\n",
    "        transactions_offer = user_transactions.loc[(user_transactions['time']>=offer_start) & \n",
    "                                                   (user_transactions['time']<=offer_end),:]\n",
    "        transactions_not_offer = user_transactions.loc[(user_transactions['time']<offer_start) & \n",
    "                                                   (user_transactions['time']>offer_end),:]\n",
    "        \n",
    "        for row in transactions_offer.iterrows():\n",
    "            ax.vlines(row[1]['time'], 0, row[1]['amount'], 'k', linewidth=3, label='transaction amount')        \n",
    "        ax.text(text_x, 2, s=\"offer type: {}\\ndifficulty: {}\\nreward: {}\".format(offer_type, offer_difficulty, offer_reward), \n",
    "                    fontdict=dict(size=10))\n",
    "        ax.set_xlim((-20,750))\n",
    "        ax.set_ylim((-mheight*.05,mheight*1.05))\n",
    "        ax.grid(False)\n",
    "        \n",
    "    legend_elements = [Line2D([0], [0], color='g', marker=5, linewidth=0, markersize=mrksize, label='offer start'),\n",
    "                       Line2D([0], [0], color='r', marker=4, linewidth=0, markersize=mrksize, label='offer end'), \n",
    "                       Line2D([0], [0], color='y', marker='d', linewidth=0, markersize=mrksize, label='viewed offer'), \n",
    "                       Line2D([0], [0], color='b', marker='*', linewidth=0, markersize=mrksize, label='completed offer'),\n",
    "                       Line2D([0], [0], color='maroon', marker='d', linewidth=0, markersize=mrksize, label='viewed after completion'),\n",
    "                       Line2D([0], [0], color='k', marker='|', linewidth=0, markersize=mrksize, label='transaction [USD]'),\n",
    "                       Line2D([0], [0], color='b',  linewidth=1,  label='cumulative spending [USD]')]\n",
    "    fig.subplots_adjust(top=0.9, right=0.9, hspace=0.05)\n",
    "    plt.legend(handles=legend_elements, mode='expand', fontsize=8, ncol=len(legend_elements), loc='lower left', bbox_to_anchor=(0.1,0.9, 0.81,0.9), bbox_transform = plt.gcf().transFigure)\n",
    "    \n",
    "    #plot accumulated amount\n",
    "    user_transactions['cumsum'] = user_transactions['amount'].cumsum()\n",
    "    df1 = user_transactions\n",
    "    df2 = user_transactions.copy(deep=True).iloc[:-1,:]\n",
    "    shifted_time = np.array(df1.loc[:,'time'].iloc[1:,])\n",
    "    df2.loc[:,'time'] = shifted_time\n",
    "    interleaved_transactions = pd.concat((df1, df2)).reset_index().sort_values(['time','index'])\n",
    "    axs[-1].plot(interleaved_transactions['time'], interleaved_transactions['cumsum'], 'b', label='cumulative spending')\n",
    "    axs[-1].grid(True)\n",
    "    return fig"
   ]
  },
  {
   "cell_type": "code",
   "execution_count": 26,
   "metadata": {},
   "outputs": [
    {
     "data": {
      "image/png": "[encoded data removed]",
      "text/plain": [
       "<Figure size 864x432 with 7 Axes>"
      ]
     },
     "metadata": {
      "needs_background": "light"
     },
     "output_type": "display_data"
    }
   ],
   "source": [
    "users = get_users_with_most_transactions(transcript_clean, n=10)\n",
    "for user in users:\n",
    "    plt.close()\n",
    "    fig = detailed_offer_plot(user, portfolio_clean, profile_clean, transcript_clean)\n",
    "    plt.savefig(\"plots/gantt_plots/{}.png\".format(user))\n",
    "   \n",
    "    "
   ]
  },
  {
   "cell_type": "code",
   "execution_count": 97,
   "metadata": {},
   "outputs": [
    {
     "data": {
      "text/plain": [
       "[(0, '2298d6c36e964ae4a3e7e9706d1fb8c2'),\n",
       " (1, 'f19421c1d4aa40978ebb69ca19b0e20d'),\n",
       " (2, '2906b810c7d4411798c6938adc9daaa5'),\n",
       " (3, 'fafdcd668e3743c1bb461111dcafc2a4'),\n",
       " (4, '2298d6c36e964ae4a3e7e9706d1fb8c2'),\n",
       " (5, '5a8bc65990b245e5a138643cd4eb9837')]"
      ]
     },
     "execution_count": 97,
     "metadata": {},
     "output_type": "execute_result"
    }
   ],
   "source": [
    "user_transcript = transcript_clean.loc[transcript_clean['id'] == '7fc83dab9a6844ca82aca3f72e2e9c43', :]\n",
    "[(i,offer_id) for i,offer_id in enumerate(user_transcript.loc[user_transcript['event'] == 'offer received', 'offer_id'])]"
   ]
  },
  {
   "cell_type": "code",
   "execution_count": 127,
   "metadata": {},
   "outputs": [
    {
     "data": {
      "text/plain": [
       "array(['discount', 'bogo', 'discount', 'discount', 'discount',\n",
       "       'informational'], dtype='<U13')"
      ]
     },
     "execution_count": 127,
     "metadata": {},
     "output_type": "execute_result"
    }
   ],
   "source": [
    "user_transcript = transcript_clean.loc[transcript_clean['id'] == '7fc83dab9a6844ca82aca3f72e2e9c43', :]\n",
    "np.array([portfolio_clean.loc[portfolio_clean['id'] == offer_id, 'offer_type'].values.astype(str)[0] for offer_id in\n",
    "         user_transcript.loc[user_transcript['event'] == 'offer received', 'offer_id']])"
   ]
  },
  {
   "cell_type": "code",
   "execution_count": null,
   "metadata": {},
   "outputs": [],
   "source": []
  }
 ],
 "metadata": {
  "kernelspec": {
   "display_name": "Python 3",
   "language": "python",
   "name": "python3"
  },
  "language_info": {
   "codemirror_mode": {
    "name": "ipython",
    "version": 3
   },
   "file_extension": ".py",
   "mimetype": "text/x-python",
   "name": "python",
   "nbconvert_exporter": "python",
   "pygments_lexer": "ipython3",
   "version": "3.6.8"
  }
 },
 "nbformat": 4,
 "nbformat_minor": 2
}
